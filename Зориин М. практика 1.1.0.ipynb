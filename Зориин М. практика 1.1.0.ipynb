{
  "nbformat": 4,
  "nbformat_minor": 0,
  "metadata": {
    "colab": {
      "provenance": []
    },
    "kernelspec": {
      "name": "python3",
      "display_name": "Python 3"
    },
    "language_info": {
      "name": "python"
    }
  },
  "cells": [
    {
      "cell_type": "markdown",
      "source": [
        "**ФИО:**"
      ],
      "metadata": {
        "id": "GEsFKJm-ABFp"
      }
    },
    {
      "cell_type": "code",
      "execution_count": null,
      "metadata": {
        "id": "wZMLYG_G_-19",
        "colab": {
          "base_uri": "https://localhost:8080/"
        },
        "outputId": "4df9ff5b-4c18-4f52-d102-29308425ef5b"
      },
      "outputs": [
        {
          "output_type": "stream",
          "name": "stdout",
          "text": [
            "Зорин Михаил Алексеевич\n"
          ]
        }
      ],
      "source": [
        "print('Зорин Михаил Алексеевич')"
      ]
    },
    {
      "cell_type": "markdown",
      "source": [
        "# Задание 1"
      ],
      "metadata": {
        "id": "H4DrYnJjADuZ"
      }
    },
    {
      "cell_type": "markdown",
      "source": [
        "**Описание:** Создайте иерархию классов для разных типов сотрудников в компании. Реализуйте родительский класс Employee и дочерние классы Manager и Developer. Каждый класс должен иметь метод для расчета зарплаты на основе различных критериев класса.\n",
        "\n",
        "\n",
        "Отрабатываемый принцип: Наследование\n",
        "\n"
      ],
      "metadata": {
        "id": "C17FWep-AF4a"
      }
    },
    {
      "cell_type": "code",
      "source": [
        "class Employee():\n",
        "  rank_name = ''\n",
        "\n",
        "  def __init__(self, name, hour, rank):\n",
        "    self.name = name\n",
        "    self.hour = hour\n",
        "    self.rank = rank\n",
        "\n",
        "  def salary(self):\n",
        "    return self.hour * (10/self.rank)\n",
        "\n",
        "\n",
        "class Manager(Employee):\n",
        "  rank_name = 'менеджер'\n",
        "\n",
        "class Developer(Employee):\n",
        "  rank_name = 'разработчик'\n",
        "\n",
        "developers = []\n",
        "managers = []\n",
        "\n",
        "developers.append(Developer(\"Коля\", 10, 2))\n",
        "developers.append(Developer(\"Саня\", 10, 2))\n",
        "managers.append(Manager(\"Григорий\", 10, 1))\n",
        "\n",
        "for i in developers:\n",
        "  print(f'Зраплата {i.rank_name} {i.name} равна {i.salary()} долоров')\n",
        "\n",
        "for i in managers:\n",
        "  print(f'Зраплата {i.rank_name} {i.name} равна {i.salary()} долоров')\n"
      ],
      "metadata": {
        "id": "aexGXzqCAFH7",
        "colab": {
          "base_uri": "https://localhost:8080/"
        },
        "outputId": "7bc708de-cb52-46ef-94c0-553a3d3252b7"
      },
      "execution_count": null,
      "outputs": [
        {
          "output_type": "stream",
          "name": "stdout",
          "text": [
            "Зраплата разработчик Коля равна 50.0 долоров\n",
            "Зраплата разработчик Саня равна 50.0 долоров\n",
            "Зраплата менеджер Григорий равна 100.0 долоров\n"
          ]
        }
      ]
    },
    {
      "cell_type": "markdown",
      "source": [
        "# Задание 2"
      ],
      "metadata": {
        "id": "ERAi0TG5BI6v"
      }
    },
    {
      "cell_type": "markdown",
      "source": [
        "**Описание:** Создайте иерархию классов для различных типов транспортных средств (Необходим один родительский класс и 3 дочерних). Реализуйте метод, который позволяет каждому транспортному средству возвращать собственное описание (Метод в каждом классе должен иметь одинаковое название). Продемонстрируйте вызов данного метода для каждого транспортного средства.\n",
        "\n",
        "\n",
        "Отрабатываемый принцип: Полиморфизм"
      ],
      "metadata": {
        "id": "sJ3k7ZcgBK87"
      }
    },
    {
      "cell_type": "code",
      "source": [
        "class Car():\n",
        "  type_car = ''\n",
        "\n",
        "  def __init__(self, name, max_speed, weight):\n",
        "    self.name = name\n",
        "    self.max_speed = max_speed\n",
        "    self.weight = weight\n",
        "\n",
        "  def get_info(self):\n",
        "    return f'''{self.type_car} {self.name}\n",
        "Максимальная скорость {self.max_speed} км/ч\n",
        "Масса ТС {self.weight} тонн\n",
        "'''\n",
        "\n",
        "class Tank(Car):\n",
        "  type_car = 'Танк'\n",
        "  def __init__(self, name, max_speed, weight, armor, weapon):\n",
        "    super().__init__(name, max_speed, weight)\n",
        "    self.armor = armor\n",
        "    self.weapon = weapon\n",
        "  def get_info(self):\n",
        "    return f'''{self.type_car} {self.name}\n",
        "Максимальная скорость {self.max_speed} км/ч\n",
        "Масса ТС {self.weight} тонн\n",
        "Броня {self.armor} мм\n",
        "Орудие {self.weapon} мм\n",
        "'''\n",
        "\n",
        "class Supercar(Car):\n",
        "  type_car = 'Суперкар'\n",
        "\n",
        "class Tractor(Car):\n",
        "  type_car = 'Трактор'\n",
        "\n",
        "cars = []\n",
        "\n",
        "cars.append(Tank('T90', 80, 55, \"100-1000 приведенки\", 125))\n",
        "cars.append(Tank('Abrams A1', 70, 66, \"50-1000 приведенки\", 120))\n",
        "cars.append(Supercar('Porsh', 250, 1.5))\n",
        "cars.append(Tractor('Ural', 30, 4))\n",
        "\n",
        "for i in cars:\n",
        "  print(i.get_info())"
      ],
      "metadata": {
        "id": "WOFOZQmDBKf4",
        "colab": {
          "base_uri": "https://localhost:8080/"
        },
        "outputId": "40735a8d-197e-4cca-85c5-d9145e22bc4b"
      },
      "execution_count": null,
      "outputs": [
        {
          "output_type": "stream",
          "name": "stdout",
          "text": [
            "Танк T90\n",
            "Максимальная скорость 80 км/ч\n",
            "Масса ТС 55 тонн\n",
            "Броня 100-1000 приведенки мм\n",
            "Орудие 125 мм\n",
            "\n",
            "Танк Abrams A1\n",
            "Максимальная скорость 70 км/ч\n",
            "Масса ТС 66 тонн\n",
            "Броня 50-1000 приведенки мм\n",
            "Орудие 120 мм\n",
            "\n",
            "Суперкар Porsh\n",
            "Максимальная скорость 250 км/ч\n",
            "Масса ТС 1.5 тонн\n",
            "\n",
            "Трактор Ural\n",
            "Максимальная скорость 30 км/ч\n",
            "Масса ТС 4 тонн\n",
            "\n"
          ]
        }
      ]
    },
    {
      "cell_type": "markdown",
      "source": [
        "# Задание 3"
      ],
      "metadata": {
        "id": "7E_SJXMJBvD4"
      }
    },
    {
      "cell_type": "markdown",
      "source": [
        "Онлайн-магазин:\n",
        "- Создайте модель для онлайн-магазина с классами Product, Order, Customer, и ShoppingCart.\n",
        "- Product включает информацию о цене, наличии на складе и категории товара.\n",
        "Order обрабатывает процесс покупки, включая расчет цены с учетом скидок и налогов.\n",
        "- Customer управляет информацией о пользователе и его истории заказов.\n",
        "- ShoppingCart позволяет добавлять, удалять и обновлять количество товаров перед оформлением заказа.\n"
      ],
      "metadata": {
        "id": "dd1mwKj_BxHa"
      }
    },
    {
      "cell_type": "code",
      "source": [
        "class Product:\n",
        "  def __init__(self, product_id: int, name: str, price: float, stock: int, category: str):\n",
        "    self.product_id = product_id\n",
        "    self.name = name\n",
        "    self.price = price\n",
        "    self.stock = stock\n",
        "    self.category = category\n",
        "\n",
        "  def __str__(self):\n",
        "    return f\"Product(id={self.product_id}, name='{self.name}', price={self.price:.2f}, stock={self.stock}, category='{self.category}')\"\n",
        "\n",
        "\n",
        "class Order:\n",
        "  def __init__(self, order_id: int, customer: 'Customer', items: list, discount: float = 0, tax_rate: float = 0.1):\n",
        "    self.order_id = order_id\n",
        "    self.customer = customer\n",
        "    self.items = items\n",
        "    self.discount = discount\n",
        "    self.tax_rate = tax_rate\n",
        "\n",
        "  def calculate_total(self) -> float:\n",
        "    subtotal = sum(item.price * item.quantity for item in self.items)\n",
        "    discount_amount = subtotal * self.discount\n",
        "    tax_amount = (subtotal - discount_amount) * self.tax_rate\n",
        "    return subtotal - discount_amount + tax_amount\n",
        "\n",
        "  def __str__(self):\n",
        "    items_str = '\\n'.join(str(item) for item in self.items)\n",
        "    return f\"Order(id={self.order_id}, customer='{self.customer.name}', items=\\n{items_str},\\ntotal={self.calculate_total():.2f})\"\n",
        "\n",
        "\n",
        "class Customer:\n",
        "  def __init__(self, customer_id: int, name: str, email: str):\n",
        "    self.customer_id = customer_id\n",
        "    self.name = name\n",
        "    self.email = email\n",
        "    self.orders = []\n",
        "\n",
        "  def place_order(self, items: list, discount: float = 0, tax_rate: float = 0.1) -> Order:\n",
        "    next_order_id = len(self.orders) + 1\n",
        "    order = Order(next_order_id, self, items, discount, tax_rate)\n",
        "    self.orders.append(order)\n",
        "    return order\n",
        "\n",
        "  def __str__(self):\n",
        "    return f\"Customer(id={self.customer_id}, name='{self.name}', email='{self.email}')\"\n",
        "\n",
        "\n",
        "class ShoppingCartItem:\n",
        "  def __init__(self, product: Product, quantity: int):\n",
        "    self.product = product\n",
        "    self.price = product.price\n",
        "    self.quantity = quantity\n",
        "\n",
        "  def __str__(self):\n",
        "    return f\"{self.product.name} x {self.quantity}\"\n",
        "\n",
        "\n",
        "class ShoppingCart:\n",
        "  def __init__(self):\n",
        "    self.items = []\n",
        "\n",
        "  def add_item(self, product: Product, quantity: int = 1) -> None:\n",
        "    existing_item = next((item for item in self.items if item.product.product_id == product.product_id), None)\n",
        "    if existing_item:\n",
        "      existing_item.quantity += quantity\n",
        "    else:\n",
        "      self.items.append(ShoppingCartItem(product, quantity))\n",
        "\n",
        "  def remove_item(self, product_id: str) -> None:\n",
        "    self.items = [item for item in self.items if item.product.product_id != product_id]\n",
        "\n",
        "  def update_quantity(self, product_id: str, quantity: int) -> None:\n",
        "    item = next((item for item in self.items if item.product.product_id == product_id), None)\n",
        "    if item:\n",
        "      item.quantity = quantity\n",
        "\n",
        "  def get_items(self) -> list:\n",
        "    return self.items\n",
        "\n",
        "  def checkout(self, customer: Customer, discount: float = 0, tax_rate: float = 0.1) -> Order:\n",
        "    return customer.place_order(self.items, discount, tax_rate)\n",
        "\n",
        "\n",
        "\n",
        "product1 = Product(1, 'iPhone', 1000, 10, 'Electronics')\n",
        "product2 = Product(2, 'Smart Watch', 300, 5, 'Electronics')\n",
        "\n",
        "customer = Customer(1, 'John Doe', 'john.doe@example.com')\n",
        "cart = ShoppingCart()\n",
        "\n",
        "cart.add_item(product1, 2)\n",
        "cart.add_item(product2)\n",
        "\n",
        "order = cart.checkout(customer, discount=0.1)\n",
        "\n",
        "print(order)"
      ],
      "metadata": {
        "colab": {
          "base_uri": "https://localhost:8080/"
        },
        "id": "nhlcO3flaGsP",
        "outputId": "1805b06b-b374-4bbe-a49e-dee1d2dc99db"
      },
      "execution_count": null,
      "outputs": [
        {
          "output_type": "stream",
          "name": "stdout",
          "text": [
            "Order(id=1, customer='John Doe', items=\n",
            "iPhone x 2\n",
            "Smart Watch x 1,\n",
            "total=2277.00)\n"
          ]
        }
      ]
    },
    {
      "cell_type": "markdown",
      "source": [
        "# Задание 4"
      ],
      "metadata": {
        "id": "ih7iPlYfB7lL"
      }
    },
    {
      "cell_type": "markdown",
      "source": [
        "Симулятор космического корабля:\n",
        "- Создайте симулятор управления космическим кораблем с классами SpaceShip, CrewMember, и Mission.\n",
        "- SpaceShip имеет атрибуты для управления топливом, состоянием корпуса, и текущей скоростью.\n",
        "- CrewMember контролирует здоровье, навыки, и роли в команде (например, пилот, инженер).\n",
        "- Mission определяет цели, ресурсы, и возможные события (например, аварии, встречи с астероидами)."
      ],
      "metadata": {
        "id": "zLwqVCbpCBvc"
      }
    },
    {
      "cell_type": "code",
      "source": [
        "import random\n",
        "\n",
        "class SpaceShip:\n",
        "  def __init__(self, name: str, max_fuel: float, initial_fuel: float, max_hull_integrity: int):\n",
        "    self.name = name\n",
        "    self.max_fuel = max_fuel\n",
        "    self.fuel = initial_fuel\n",
        "    self.max_hull_integrity = max_hull_integrity\n",
        "    self.hull_integrity = max_hull_integrity\n",
        "    self.speed = 0.0\n",
        "\n",
        "  def consume_fuel(self, amount: float) -> None:\n",
        "    if amount <= 0:\n",
        "      raise ValueError(\"Fuel consumption must be positive.\")\n",
        "    if self.fuel < amount:\n",
        "      raise ValueError(\"Not enough fuel!\")\n",
        "    self.fuel -= amount\n",
        "\n",
        "  def accelerate(self, amount: float) -> None:\n",
        "    self.speed += amount\n",
        "\n",
        "  def decelerate(self, amount: float) -> None:\n",
        "    self.speed -= amount\n",
        "    if self.speed < 0:\n",
        "      self.speed = 0\n",
        "\n",
        "  def damage_hull(self, amount: int) -> None:\n",
        "    self.hull_integrity -= amount\n",
        "    if self.hull_integrity < 0:\n",
        "      self.hull_integrity = 0\n",
        "    print(f\"Hull integrity reduced to {self.hull_integrity}/{self.max_hull_integrity}\")\n",
        "\n",
        "  def repair_hull(self, amount: int) -> None:\n",
        "    self.hull_integrity += amount\n",
        "    if self.hull_integrity > self.max_hull_integrity:\n",
        "      self.hull_integrity = self.max_hull_integrity\n",
        "    print(f\"Hull integrity increased to {self.hull_integrity}/{self.max_hull_integrity}\")\n",
        "\n",
        "  def __str__(self):\n",
        "    return f\"SpaceShip(name='{self.name}', fuel={self.fuel:.2f}/{self.max_fuel:.2f}, hull={self.hull_integrity}/{self.max_hull_integrity}, speed={self.speed:.2f})\"\n",
        "\n",
        "\n",
        "class CrewMember:\n",
        "  def __init__(self, name: str, health: int, skills: dict, role: str):\n",
        "    self.name = name\n",
        "    self.health = health\n",
        "    self.skills = skills\n",
        "    self.role = role\n",
        "\n",
        "  def is_healthy(self) -> bool:\n",
        "    return self.health > 0\n",
        "\n",
        "  def take_damage(self, damage: int) -> None:\n",
        "    self.health -= damage\n",
        "    if self.health < 0:\n",
        "      self.health = 0\n",
        "    print(f\"{self.name} ({self.role}) took damage. Health: {self.health}\")\n",
        "\n",
        "  def heal(self, amount:int):\n",
        "    self.health += amount\n",
        "    if self.health > 100:\n",
        "      self.health = 100\n",
        "    print(f\"{self.name} ({self.role}) healed. Health: {self.health}\")\n",
        "\n",
        "\n",
        "  def __str__(self):\n",
        "    return f\"CrewMember(name='{self.name}', role='{self.role}', health={self.health}, skills={self.skills})\"\n",
        "\n",
        "\n",
        "\n",
        "class Mission:\n",
        "  def __init__(self, name: str, objectives: list, resources: dict, events: list):\n",
        "    self.name = name\n",
        "    self.objectives = objectives\n",
        "    self.resources = resources\n",
        "    self.events = events\n",
        "\n",
        "  def generate_event(self) -> str or None:\n",
        "    if self.events:\n",
        "      event = random.choice(self.events)\n",
        "      return event\n",
        "    return None\n",
        "\n",
        "\n",
        "ship = SpaceShip(\"Ares IV\", 1000, 800, 100)\n",
        "pilot = CrewMember(\"Alex Ryder\", 100, {\"piloting\": 90, \"engineering\": 50}, \"Pilot\")\n",
        "engineer = CrewMember(\"Sarah Connor\", 100, {\"piloting\": 40, \"engineering\": 90}, \"Engineer\")\n",
        "\n",
        "mission = Mission(\"To Mars\", [\"Reach Mars\", \"Collect samples\"], {\"fuel\": 500, \"repair kits\": 2}, [\"Asteroid field\", \"Meteor shower\", lambda: \"Engine malfunction\"])\n",
        "\n",
        "print(ship)\n",
        "print(pilot)\n",
        "print(engineer)\n",
        "\n",
        "ship.consume_fuel(100)\n",
        "ship.accelerate(50)\n",
        "event = mission.generate_event()\n",
        "if event == \"Asteroid field\":\n",
        "  ship.damage_hull(20)\n",
        "elif event == \"Meteor shower\":\n",
        "  pilot.take_damage(15)\n",
        "elif callable(event):\n",
        "  ship.damage_hull(30)\n",
        "  print(event())\n",
        "print(ship)\n",
        "print(pilot)\n",
        "\n",
        "ship.repair_hull(10)\n",
        "engineer.heal(10)\n",
        "print(ship)\n",
        "print(engineer)"
      ],
      "metadata": {
        "id": "OJzpDZov4Qqx",
        "colab": {
          "base_uri": "https://localhost:8080/"
        },
        "outputId": "461d9531-cdeb-4adf-b9e2-470845e3b99e"
      },
      "execution_count": null,
      "outputs": [
        {
          "output_type": "stream",
          "name": "stdout",
          "text": [
            "SpaceShip(name='Ares IV', fuel=800.00/1000.00, hull=100/100, speed=0.00)\n",
            "CrewMember(name='Alex Ryder', role='Pilot', health=100, skills={'piloting': 90, 'engineering': 50})\n",
            "CrewMember(name='Sarah Connor', role='Engineer', health=100, skills={'piloting': 40, 'engineering': 90})\n",
            "Hull integrity reduced to 70/100\n",
            "Engine malfunction\n",
            "SpaceShip(name='Ares IV', fuel=700.00/1000.00, hull=70/100, speed=50.00)\n",
            "CrewMember(name='Alex Ryder', role='Pilot', health=100, skills={'piloting': 90, 'engineering': 50})\n",
            "Hull integrity increased to 80/100\n",
            "Sarah Connor (Engineer) healed. Health: 100\n",
            "SpaceShip(name='Ares IV', fuel=700.00/1000.00, hull=80/100, speed=50.00)\n",
            "CrewMember(name='Sarah Connor', role='Engineer', health=100, skills={'piloting': 40, 'engineering': 90})\n"
          ]
        }
      ]
    },
    {
      "cell_type": "markdown",
      "source": [
        "# Дополнительно:"
      ],
      "metadata": {
        "id": "F7mRVsZjCXk0"
      }
    },
    {
      "cell_type": "markdown",
      "source": [
        "**Описание:** создайте консольную версию игры крестики-нолики, используя классы"
      ],
      "metadata": {
        "id": "X4Lkf86UCc1h"
      }
    },
    {
      "cell_type": "code",
      "source": [
        "import random\n",
        "\n",
        "class TicTacToe:\n",
        "  def __init__(self):\n",
        "    self.board = [[' ' for _ in range(3)] for _ in range(3)]\n",
        "    self.current_player = 'X'\n",
        "\n",
        "  def print_board(self):\n",
        "    print(\"-------------\")\n",
        "    for i, row in enumerate(self.board):\n",
        "      print(\"|\", end=\" \")\n",
        "      for j, cell in enumerate(row):\n",
        "        cell_num = i * 3 + j + 1\n",
        "        print(cell if cell != ' ' else cell_num, \"|\", end=\" \")\n",
        "      print()\n",
        "      print(\"-------------\")\n",
        "\n",
        "  def is_valid_move(self, move):\n",
        "    return 1 <= move <= 9 and self.board[(move - 1) // 3][(move - 1) % 3] == ' '\n",
        "\n",
        "  def make_move(self, move):\n",
        "    row = (move - 1) // 3\n",
        "    col = (move - 1) % 3\n",
        "    self.board[row][col] = self.current_player\n",
        "    self.current_player = 'O' if self.current_player == 'X' else 'X'\n",
        "\n",
        "  def check_win(self):\n",
        "    for row in range(3):\n",
        "      if all(self.board[row][i] == self.board[row][0] and self.board[row][0] != ' ' for i in range(1, 3)):\n",
        "        return self.board[row][0]\n",
        "    for col in range(3):\n",
        "      if all(self.board[i][col] == self.board[0][col] and self.board[0][col] != ' ' for i in range(1, 3)):\n",
        "        return self.board[0][col]\n",
        "    if all(self.board[i][i] == self.board[0][0] and self.board[0][0] != ' ' for i in range(3)):\n",
        "      return self.board[0][0]\n",
        "    if all(self.board[i][2 - i] == self.board[0][2] and self.board[0][2] != ' ' for i in range(3)):\n",
        "      return self.board[0][2]\n",
        "    if all(all(cell != ' ' for cell in row) for row in self.board):\n",
        "      return \"Draw\"\n",
        "    return None\n",
        "\n",
        "  def get_empty_cells(self):\n",
        "    return [i + 1 for i, cell in enumerate(sum(self.board, [])) if cell == ' ']\n",
        "\n",
        "  def find_best_move(self):\n",
        "    for move in self.get_empty_cells():\n",
        "      row, col = (move - 1) // 3, (move - 1) % 3\n",
        "      self.board[row][col] = 'O'\n",
        "      if self.check_win() == 'O':\n",
        "        self.board[row][col] = ' '\n",
        "        return move\n",
        "      self.board[row][col] = ' '\n",
        "\n",
        "    for move in self.get_empty_cells():\n",
        "      row, col = (move - 1) // 3, (move - 1) % 3\n",
        "      self.board[row][col] = 'X'\n",
        "      if self.check_win() == 'X':\n",
        "        self.board[row][col] = ' '\n",
        "        return move\n",
        "      self.board[row][col] = ' '\n",
        "\n",
        "    if 5 in self.get_empty_cells():\n",
        "      return 5\n",
        "\n",
        "    corners = [1, 3, 7, 9]\n",
        "    available_corners = [c for c in corners if c in self.get_empty_cells()]\n",
        "    if available_corners:\n",
        "      return random.choice(available_corners)\n",
        "\n",
        "    empty_cells = self.get_empty_cells()\n",
        "    if random.random() < 0.1:\n",
        "      return random.choice(empty_cells)\n",
        "    else:\n",
        "      return random.choice(empty_cells)\n",
        "\n",
        "\n",
        "  def play(self):\n",
        "    while True:\n",
        "      self.print_board()\n",
        "      if self.current_player == 'X':\n",
        "        while True:\n",
        "          try:\n",
        "            move = int(input(\"Ваш ход (1-9): \"))\n",
        "            if self.is_valid_move(move):\n",
        "              self.make_move(move)\n",
        "              break\n",
        "            else:\n",
        "              print(\"Неверный ход. Попробуйте снова.\")\n",
        "          except ValueError:\n",
        "            print(\"Некорректный ввод. Введите число от 1 до 9.\")\n",
        "      else:\n",
        "        move = self.find_best_move()\n",
        "        if move:\n",
        "          self.make_move(move)\n",
        "          print(f\"Ход бота: {move}\")\n",
        "        else:\n",
        "          print(\"Ничья!\")\n",
        "          break\n",
        "\n",
        "      winner = self.check_win()\n",
        "      if winner:\n",
        "        self.print_board()\n",
        "        if winner == \"Draw\":\n",
        "          print(\"Ничья!\")\n",
        "        else:\n",
        "          print(f\"Победитель: {winner}!\")\n",
        "        break\n",
        "\n",
        "\n",
        "game = TicTacToe()\n",
        "game.play()"
      ],
      "metadata": {
        "id": "x9OxpNsyCcUo",
        "colab": {
          "base_uri": "https://localhost:8080/"
        },
        "outputId": "dd653a12-b61f-4c96-a11d-4ce4d7aa1f4e"
      },
      "execution_count": null,
      "outputs": [
        {
          "output_type": "stream",
          "name": "stdout",
          "text": [
            "-------------\n",
            "| 1 | 2 | 3 | \n",
            "-------------\n",
            "| 4 | 5 | 6 | \n",
            "-------------\n",
            "| 7 | 8 | 9 | \n",
            "-------------\n",
            "Ваш ход (1-9): 1\n",
            "-------------\n",
            "| X | 2 | 3 | \n",
            "-------------\n",
            "| 4 | 5 | 6 | \n",
            "-------------\n",
            "| 7 | 8 | 9 | \n",
            "-------------\n",
            "Ход бота: 5\n",
            "-------------\n",
            "| X | 2 | 3 | \n",
            "-------------\n",
            "| 4 | O | 6 | \n",
            "-------------\n",
            "| 7 | 8 | 9 | \n",
            "-------------\n",
            "Ваш ход (1-9): 9\n",
            "-------------\n",
            "| X | 2 | 3 | \n",
            "-------------\n",
            "| 4 | O | 6 | \n",
            "-------------\n",
            "| 7 | 8 | X | \n",
            "-------------\n",
            "Ход бота: 7\n",
            "-------------\n",
            "| X | 2 | 3 | \n",
            "-------------\n",
            "| 4 | O | 6 | \n",
            "-------------\n",
            "| O | 8 | X | \n",
            "-------------\n",
            "Ваш ход (1-9): 3\n",
            "-------------\n",
            "| X | 2 | X | \n",
            "-------------\n",
            "| 4 | O | 6 | \n",
            "-------------\n",
            "| O | 8 | X | \n",
            "-------------\n",
            "Ход бота: 2\n",
            "-------------\n",
            "| X | O | X | \n",
            "-------------\n",
            "| 4 | O | 6 | \n",
            "-------------\n",
            "| O | 8 | X | \n",
            "-------------\n",
            "Ваш ход (1-9): 6\n",
            "-------------\n",
            "| X | O | X | \n",
            "-------------\n",
            "| 4 | O | X | \n",
            "-------------\n",
            "| O | 8 | X | \n",
            "-------------\n",
            "Победитель: X!\n"
          ]
        }
      ]
    }
  ]
}