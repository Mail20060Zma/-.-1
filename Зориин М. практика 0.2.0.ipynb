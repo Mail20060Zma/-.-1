{
  "cells": [
    {
      "cell_type": "markdown",
      "metadata": {
        "id": "0PnTh-ajEoEb"
      },
      "source": [
        "Напишите свое ФИО:"
      ]
    },
    {
      "cell_type": "code",
      "execution_count": null,
      "metadata": {
        "colab": {
          "base_uri": "https://localhost:8080/"
        },
        "id": "QyMVPjzWErHw",
        "outputId": "8b85a483-c233-4b94-9d13-a28d201feeec"
      },
      "outputs": [
        {
          "output_type": "stream",
          "name": "stdout",
          "text": [
            "Привет студентам!\n"
          ]
        }
      ],
      "source": [
        "print('Привет студентам!')"
      ]
    },
    {
      "cell_type": "markdown",
      "metadata": {
        "id": "HPwKiIA4EKO-"
      },
      "source": [
        "# Основы"
      ]
    },
    {
      "cell_type": "markdown",
      "metadata": {
        "id": "8po5IidFERZ8"
      },
      "source": [
        "Задание 1: Напиши программу, выводящую на экран сообщение \"Привет, мир!\""
      ]
    },
    {
      "cell_type": "code",
      "execution_count": null,
      "metadata": {
        "id": "sBRjlCVLEIQr"
      },
      "outputs": [],
      "source": [
        "print('\"Привет, мир\" ')"
      ]
    },
    {
      "cell_type": "markdown",
      "metadata": {
        "id": "pUQIIo94EYLg"
      },
      "source": [
        "Задание 2: Напиши программу которая запрашивает имя пользователя и выводит сообщение:\n",
        "\n",
        "`Привет, <Имя пользователя>`"
      ]
    },
    {
      "cell_type": "code",
      "execution_count": null,
      "metadata": {
        "colab": {
          "base_uri": "https://localhost:8080/"
        },
        "id": "nNwHKmAnEinH",
        "outputId": "583eab5e-43d6-4dbd-c751-8e5de40eca4c"
      },
      "outputs": [
        {
          "name": "stdout",
          "output_type": "stream",
          "text": [
            "Ведите имя пользователя!123\n",
            "Привет, 123\n"
          ]
        }
      ],
      "source": [
        "print('Привет,',input('Ведите имя пользователя!') )"
      ]
    },
    {
      "cell_type": "markdown",
      "metadata": {
        "id": "SAUm9W6_Etkh"
      },
      "source": [
        "Задание 3: Напиши программу определяющую является ли число четным или нечетным:\n",
        "\n",
        "Пример:\n",
        "\n",
        "`Введите число:` 2\n",
        "\n",
        "`Ваше число четное!`"
      ]
    },
    {
      "cell_type": "code",
      "execution_count": null,
      "metadata": {
        "colab": {
          "base_uri": "https://localhost:8080/"
        },
        "id": "LXv7AIN1E4on",
        "outputId": "7aab4365-0f95-48fb-b51d-1c0252250ae6"
      },
      "outputs": [
        {
          "name": "stdout",
          "output_type": "stream",
          "text": [
            "Введите число: 11\n",
            "Ваше число не четное!\n"
          ]
        }
      ],
      "source": [
        "num=int(input('Введите число: '))\n",
        "if num%2==0:\n",
        "  print('Ваше число четное!')\n",
        "else:\n",
        "  print('Ваше число не четное!')"
      ]
    },
    {
      "cell_type": "markdown",
      "metadata": {
        "id": "OW1Y5KyUE_n9"
      },
      "source": [
        "Задание 4: Напишите программу которая запрашивает длинну и ширину прямоугольника и выводит его площадь:\n",
        "\n",
        "\n",
        "\n",
        "`Введите длинну прямоугольника:`\n",
        "\n",
        "`Введите ширину прямоугольника:`\n",
        "\n",
        "`Площадь прямоугольника: `\n",
        "\n"
      ]
    },
    {
      "cell_type": "code",
      "execution_count": null,
      "metadata": {
        "colab": {
          "base_uri": "https://localhost:8080/"
        },
        "id": "Bu5iawknFbXP",
        "outputId": "f084b99b-befc-4d43-e806-a7c0071bd81d"
      },
      "outputs": [
        {
          "name": "stdout",
          "output_type": "stream",
          "text": [
            "Введите длину прямоугольника: 12\n",
            "Введите ширину прямоугольника: 11\n",
            "Площадь прямоугольника: 132\n"
          ]
        }
      ],
      "source": [
        "length=int(input('Введите длину прямоугольника: '))\n",
        "width=int(input('Введите ширину прямоугольника: '))\n",
        "print('Площадь прямоугольника:',length*width)"
      ]
    },
    {
      "cell_type": "markdown",
      "metadata": {
        "id": "xj8_QNLsFfLw"
      },
      "source": [
        "Задание 5: Напишите программу, которая будет вычислять среднее арифметическое введенных чисел"
      ]
    },
    {
      "cell_type": "code",
      "execution_count": null,
      "metadata": {
        "colab": {
          "base_uri": "https://localhost:8080/"
        },
        "id": "omumX59JFoKw",
        "outputId": "9f8233a6-9189-4084-cb4b-984811cdcc0c"
      },
      "outputs": [
        {
          "name": "stdout",
          "output_type": "stream",
          "text": [
            "Введите число, если стоп введите \"стоп\":1\n",
            "Введите число, если стоп введите \"стоп\":2\n",
            "Введите число, если стоп введите \"стоп\":32\n",
            "Введите число, если стоп введите \"стоп\":54\n",
            "Введите число, если стоп введите \"стоп\":111\n",
            "Введите число, если стоп введите \"стоп\":2\n",
            "Введите число, если стоп введите \"стоп\":32\n",
            "Введите число, если стоп введите \"стоп\":стоп\n",
            "cреднее арифметическое введенных чисел: 33.42857142857143\n"
          ]
        }
      ],
      "source": [
        "list_numbers=list()\n",
        "num=input('Введите число, если стоп введите \"стоп\":')\n",
        "while num!='стоп':\n",
        "  list_numbers.append(int(num))\n",
        "  num=input('Введите число, если стоп введите \"стоп\":')\n",
        "print('c54реднее арифметическое введенных чисел:',sum(list_numbers)/len(list_numbers))\n",
        "\n"
      ]
    },
    {
      "cell_type": "markdown",
      "metadata": {
        "id": "qHXcBMUJcP91"
      },
      "source": [
        "Задание 6: Напишите программу, которая бы определяла является ли год високосным\n",
        "Пример:\n",
        "\n",
        "`Введите год:` 2024\n",
        "\n",
        "`Ваш год високосный!`"
      ]
    },
    {
      "cell_type": "code",
      "execution_count": null,
      "metadata": {
        "colab": {
          "base_uri": "https://localhost:8080/"
        },
        "id": "5zIg47mwcKKr",
        "outputId": "24c328f3-6edb-496e-da98-c9b24b91557e"
      },
      "outputs": [
        {
          "name": "stdout",
          "output_type": "stream",
          "text": [
            "Введите год:2000\n",
            "Ваш год не високосный!\n"
          ]
        }
      ],
      "source": [
        "year=int(input('Введите год:'))\n",
        "if year%4==0 and (year%400==0 or  year%100!=0):\n",
        "  print('Ваш год високосный!')\n",
        "else:\n",
        "  print('Ваш год не високосный!')"
      ]
    },
    {
      "cell_type": "markdown",
      "metadata": {
        "id": "CYaQ69kucdhj"
      },
      "source": [
        "Задание 7: Необходимо создать простой калькулятор, который позволяет пользователю выбрать одну из четырёх операций (+, -, *, /), ввести два числа и получить результат выполнения операции.\n",
        "\n",
        "`Введите операцию:`\n",
        "\n",
        "`Введите первое число:`\n",
        "\n",
        "`Введите второе число:`\n",
        "\n",
        "`Результат выполнения: `\n"
      ]
    },
    {
      "cell_type": "code",
      "execution_count": null,
      "metadata": {
        "colab": {
          "base_uri": "https://localhost:8080/"
        },
        "id": "wR5UyEf7ciIE",
        "outputId": "ddd5efb7-5b5c-466b-9165-e1e9315b18ad"
      },
      "outputs": [
        {
          "name": "stdout",
          "output_type": "stream",
          "text": [
            "Введите операцию(+,-,*,/):/\n",
            "Введите первое число:1\n",
            "Введите второе число:0\n",
            "второе число не может быть нулем!\n"
          ]
        }
      ],
      "source": [
        "operation=input('Введите операцию(+,-,*,/):')\n",
        "num_1=int(input('Введите первое число:'))\n",
        "num_2=int(input('Введите второе число:'))\n",
        "if operation=='+':\n",
        "  print('Результат выполнения:',num_1+num_2)\n",
        "elif operation=='-':\n",
        "  print('Результат выполнения:',num_1-num_2)\n",
        "elif operation=='*':\n",
        "  print('Результат выполнения:',num_1*num_2)\n",
        "elif operation=='/':\n",
        "  if num_2!=0:\n",
        "    print('Результат выполнения:',num_1/num_2)\n",
        "  else:\n",
        "    print('второе число не может быть нулем!')\n",
        "else:\n",
        "  print('не коректная операция!')"
      ]
    },
    {
      "cell_type": "markdown",
      "metadata": {
        "id": "XWBhGpdEFo-U"
      },
      "source": [
        "# Практика 0.2.1"
      ]
    },
    {
      "cell_type": "markdown",
      "metadata": {
        "id": "9Lw9odpqFwtn"
      },
      "source": [
        "**Шахматы**\n",
        "\n",
        "Даны стартовые и конечные координаты, а также фигура\n",
        "\n",
        "Необходимо определить, может ли заданная фигура так ходить?"
      ]
    },
    {
      "cell_type": "code",
      "execution_count": null,
      "metadata": {
        "colab": {
          "base_uri": "https://localhost:8080/"
        },
        "id": "9IICo0p3F07P",
        "outputId": "bf26f03d-9b4b-47a2-b96a-75a538b12519"
      },
      "outputs": [
        {
          "name": "stdout",
          "output_type": "stream",
          "text": [
            "Введите название фигурыконь\n",
            "Введите цвет фигурычерный\n",
            "Введите коордниты начала пример(D 4):B 2\n",
            "Введите коордниты конца пример(F 3):C 4\n",
            "knight так ходить может!\n"
          ]
        }
      ],
      "source": [
        "shapes={\"король\":'king','ферзь':'queen','слон':'bishop','конь':'knight','ладья':'rook','пешки':'pawns','белый':'white','черный':'black'}\n",
        "shape=shapes[input('Введите название фигуры ')]\n",
        "color_shape=input('Введите цвет фигуры ')\n",
        "cord_x={'A':1,'B':2,'C':3,'D':4,'E':5,'F':6,'G':7,'H':8}\n",
        "cord_start_x,cord_start_y=input('Введите коордниты начала пример(D 4):').split()\n",
        "cord_end_x,cord_end_y=input('Введите коордниты конца пример(F 3):').split()\n",
        "cord_start_x=cord_x[cord_start_x]\n",
        "cord_end_x=cord_x[cord_end_x]\n",
        "cord_start_y=int(cord_start_y)\n",
        "cord_end_y=int(cord_end_y)\n",
        "if shape=='king'and abs(cord_start_x-cord_end_x)<=1 and abs(cord_start_y-cord_end_y)<=1:\n",
        "  print(f'{shape} так ходить может!')\n",
        "elif shape=='queen' and ((cord_start_x==cord_end_x)or(cord_start_y==cord_end_y)or(abs(cord_start_x-cord_end_x)==abs(cord_start_y-cord_end_y))):\n",
        "  print(f'{shape} так ходить может!')\n",
        "elif shape=='bishop'and abs(cord_start_x-cord_end_x)==abs(cord_start_y-cord_end_y):\n",
        "  print(f'{shape} так ходить может!')\n",
        "elif shape=='rook' and ((cord_start_x==cord_end_x)or(cord_start_y==cord_end_y)):\n",
        "  print(f'{shape} так ходить может!')\n",
        "elif shape=='pawns' and color_cshape=='black':\n",
        "  if cord_start_y==7 and cord_start_x==cord_end_x and (cord_end_y==5 or cord_end_y==6):\n",
        "    print(f'{shape} так ходить может!')\n",
        "  elif cord_start_y!=7 and cord_start_x==cord_end_x and cord_start_y-cord_end_y==1:\n",
        "    print(f'{shape} так ходить может!')\n",
        "  else:\n",
        "    print(f'{shape} так ходить не может!')\n",
        "elif shape=='pawns' and color_cshape=='white':\n",
        "  if cord_start_y==2 and cord_start_x==cord_end_x and (cord_end_y==3 or cord_end_y==4):\n",
        "    print(f'{shape} так ходить может!')\n",
        "  elif cord_start_y!=2 and cord_start_x==cord_end_x and cord_start_y-cord_end_y==-1:\n",
        "    print(f'{shape} так ходить может!')\n",
        "  else:\n",
        "    print(f'{shape} так ходить не может!')\n",
        "elif shape=='knight' :\n",
        "  if abs(cord_start_x-cord_end_x)==2 and abs(cord_start_y-cord_end_y)==1:\n",
        "    print(f'{shape} так ходить может!')\n",
        "  elif abs(cord_start_x-cord_end_x)==1 and abs(cord_start_y-cord_end_y)==2:\n",
        "    print(f'{shape} так ходить может!')\n",
        "else:\n",
        "  print(f'{shape} так ходить не может!')\n",
        "\n",
        "\n"
      ]
    },
    {
      "cell_type": "markdown",
      "metadata": {
        "id": "wI5bLNpHGDmO"
      },
      "source": [
        "# Практика 0.2.2\n",
        "\n",
        "**Цифра на определенном месте:**\n",
        "\n",
        "Последовательно записан натуральный ряд чисел.\n",
        "\n",
        "Какая цифра стоит в N позиции"
      ]
    },
    {
      "cell_type": "code",
      "execution_count": null,
      "metadata": {
        "id": "XLm_zFGzGNsU",
        "colab": {
          "base_uri": "https://localhost:8080/"
        },
        "outputId": "7247021a-b255-4dda-cb28-278d63a4132c"
      },
      "outputs": [
        {
          "output_type": "stream",
          "name": "stdout",
          "text": [
            "Позиция числа 10000000\n",
            "7 68888890\n"
          ]
        }
      ],
      "source": [
        "num=int(input('Позиция числа '))\n",
        "nums=''.join([str(i) for i in range(num)])\n",
        "print(nums[num],len(nums))\n"
      ]
    },
    {
      "cell_type": "code",
      "execution_count": null,
      "metadata": {
        "id": "91bWbRx7mUWP",
        "colab": {
          "base_uri": "https://localhost:8080/"
        },
        "outputId": "c924b449-66bd-49ba-be17-5fdd79bd584c"
      },
      "outputs": [
        {
          "name": "stdout",
          "output_type": "stream",
          "text": [
            " 1234567890\n"
          ]
        }
      ],
      "source": [
        "num=int(input(' '))\n",
        "#9 + 90 + 900 + ... = 9 * (10^0 + 10^1 + 10^2 + ... + 10^n)\n",
        "k=0\n",
        "l=0\n",
        "p=0\n",
        "for i in range(len(str(num))):\n",
        "  if k>num:\n",
        "    break\n",
        "  p+=1\n",
        "  for j in range(1,10):\n",
        "    if k>num:\n",
        "      break\n",
        "    l=10**i+l\n",
        "    k=10**i*p+k\n",
        "nums=''.join([str(i) for i in range(l)])\n",
        "print(k,l,len(nums))\n",
        "print(nums[num],)"
      ]
    },
    {
      "cell_type": "code",
      "source": [
        "num=int(input('Позиция числа '))\n",
        "nums=''\n",
        "k=0\n",
        "for i in range(len(str(num))+1):\n",
        "  if k>num:\n",
        "    break\n",
        "  k=k+9*10**i*(i+1)\n",
        "nums=''.join([str(i) for i in range(int(num))])\n",
        "print(nums[num],k,i)"
      ],
      "metadata": {
        "colab": {
          "base_uri": "https://localhost:8080/"
        },
        "id": "pFZzMKTYZZNU",
        "outputId": "4644b564-9776-4bca-ba0a-e091d98fd7fa"
      },
      "execution_count": null,
      "outputs": [
        {
          "output_type": "stream",
          "name": "stdout",
          "text": [
            "Позиция числа 10000000\n",
            "7 68888889 7\n"
          ]
        }
      ]
    },
    {
      "cell_type": "markdown",
      "metadata": {
        "id": "dpxTJv-scnMy"
      },
      "source": [
        "# Практика 0.2.3\n",
        "\n",
        "\n",
        "Возьмите код из задания 7 и улучшите ваш калькулятор следующим образом:\n",
        "\n",
        "Пользователь вводит строку вида:\n",
        "\n",
        "(5+5)*5 - данная строка содержит в себе математическое выражение, а также скобки\n",
        "\n",
        "Ваша программа должная понять что за математическое выражение записано, проверить верно ли оно записано (пример неверного заполнения: (5(+)5)*5, а также расчитать его в соотвествии с правилами математики"
      ]
    },
    {
      "cell_type": "code",
      "execution_count": null,
      "metadata": {
        "id": "18gOluyHcmmf"
      },
      "outputs": [],
      "source": [
        "expres=input('Введите выражение: ')\n"
      ]
    }
  ],
  "metadata": {
    "colab": {
      "provenance": []
    },
    "kernelspec": {
      "display_name": "Python 3",
      "name": "python3"
    },
    "language_info": {
      "name": "python"
    }
  },
  "nbformat": 4,
  "nbformat_minor": 0
}