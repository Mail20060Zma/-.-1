{
  "nbformat": 4,
  "nbformat_minor": 0,
  "metadata": {
    "colab": {
      "provenance": []
    },
    "kernelspec": {
      "name": "python3",
      "display_name": "Python 3"
    },
    "language_info": {
      "name": "python"
    }
  },
  "cells": [
    {
      "cell_type": "markdown",
      "source": [
        "ФИО"
      ],
      "metadata": {
        "id": "phMKaFq3DN13"
      }
    },
    {
      "cell_type": "code",
      "execution_count": null,
      "metadata": {
        "id": "3CWpaI7SDK8t",
        "colab": {
          "base_uri": "https://localhost:8080/"
        },
        "outputId": "fef37b01-53fe-48b4-c836-c9173614f7c3"
      },
      "outputs": [
        {
          "output_type": "stream",
          "name": "stdout",
          "text": [
            "Зорин \n",
            "Михаил \n",
            "Алексеевич\n",
            "\n"
          ]
        }
      ],
      "source": [
        "print('''Зорин\n",
        "Михаил\n",
        "Алексеевич\n",
        "''')"
      ]
    },
    {
      "cell_type": "markdown",
      "source": [
        "**Во всей практике нельзя применять библиотеки предоставляющие готовые решения!**"
      ],
      "metadata": {
        "id": "jyIy3GOgFOCe"
      }
    },
    {
      "cell_type": "markdown",
      "source": [
        "# **Задача 1.**\n"
      ],
      "metadata": {
        "id": "XizmlL1RK2t3"
      }
    },
    {
      "cell_type": "markdown",
      "source": [
        "\n",
        "\n",
        "Типы данных Напишите программу на Python, которая принимает список чисел в качестве входных данных от пользователя, а затем выводит сумму, среднее значение и максимальное значение из списка.\n",
        "\n",
        "***Нельзя использовать: len(), min(), max(), average(), sum()***\n",
        "\n",
        "Ввод:\n",
        "```\n",
        "1 2 3 4 5 6 7\n",
        "```\n",
        "Вывод:\n",
        "\n",
        "```\n",
        "Сумма чисел: 28\n",
        "Среднее арифм.: 4.0\n",
        "Максимальное значение: 7\n",
        "```\n",
        "\n"
      ],
      "metadata": {
        "id": "p0v6KtHTFKSd"
      }
    },
    {
      "cell_type": "code",
      "source": [
        "max_nums=0\n",
        "nums=0\n",
        "sums=0\n",
        "num=int(input('Введите число (0 если стоп): '))\n",
        "while num!=0:\n",
        "  sums+=num\n",
        "  nums+=1\n",
        "  if max_nums<num:\n",
        "    max_nums=num\n",
        "  num=int(input('Введите число (0 если стоп): '))\n",
        "print(f'''Сумма чисел: {max_nums}\n",
        "Среднее арифм.: {sums/nums}\n",
        "Максимальное значение: {sums}''')"
      ],
      "metadata": {
        "id": "0e1Virl0FpF6",
        "colab": {
          "base_uri": "https://localhost:8080/"
        },
        "outputId": "b0dba5bd-5097-45a0-ff2a-5abf66763733"
      },
      "execution_count": null,
      "outputs": [
        {
          "output_type": "stream",
          "name": "stdout",
          "text": [
            "Введите число (0 если стоп): 1\n",
            "Введите число (0 если стоп): 2\n",
            "Введите число (0 если стоп): 3\n",
            "Введите число (0 если стоп): 4\n",
            "Введите число (0 если стоп): 5\n",
            "Введите число (0 если стоп): 6\n",
            "Введите число (0 если стоп): 7\n",
            "Введите число (0 если стоп): 0\n",
            "Сумма чисел: 7\n",
            "Среднее арифм.: 4.0\n",
            "Максимальное значение: 28\n"
          ]
        }
      ]
    },
    {
      "cell_type": "markdown",
      "source": [
        "# **Задача 2.**"
      ],
      "metadata": {
        "id": "uFluc5OSK0NH"
      }
    },
    {
      "cell_type": "markdown",
      "source": [
        "\n",
        "Напишите программу на Python, которая принимает список слов в качестве входных данных от пользователя, а затем распечатывает список в обратном порядке.\n",
        "\n",
        "Ввод:\n",
        "\n",
        "```\n",
        "апельсин мандарин яблоко\n",
        "```\n",
        "\n",
        "Вывод:\n",
        "\n",
        "```\n",
        "яблоко мандарин апельсин\n",
        "```"
      ],
      "metadata": {
        "id": "6T8vg324GG4Z"
      }
    },
    {
      "cell_type": "code",
      "source": [
        "lst=input('Введите список слов: ')\n",
        "print(''.join(list(lst)[::-1]))"
      ],
      "metadata": {
        "id": "v3AWj4ufGKox",
        "colab": {
          "base_uri": "https://localhost:8080/"
        },
        "outputId": "014f0d8c-1de1-426c-ee21-2911f2537276"
      },
      "execution_count": null,
      "outputs": [
        {
          "output_type": "stream",
          "name": "stdout",
          "text": [
            "Введите список слов: 1 2 3 4 5 \n",
            " 5 4 3 2 1\n"
          ]
        }
      ]
    },
    {
      "cell_type": "markdown",
      "source": [
        "# **Задача 3**"
      ],
      "metadata": {
        "id": "D1KkCxtIKxRx"
      }
    },
    {
      "cell_type": "markdown",
      "source": [
        "Простой чат-бот\n",
        "Создайте простого чат-бота, который отвечает на основные запросы пользователей. Программа должна использовать условные выражения для определения намерений пользователя и последующего соответствующего ответа.\n",
        "\n",
        "Чат бот может:\n",
        "\n",
        "- помогать складывать числа\n",
        "- подсказывать фильм, музыку и тд (из заранее созданного списка)\n",
        "- создавать список дел (а также выводить его, обновлять, очищать)\n",
        "\n",
        "Интерфейс чат-бота на ваше усмотрение, это могут быть как заранее определенные команды, так и к примеру вызов команды по номеру\n",
        "\n",
        "*Реализовать без использования функций*\n",
        "\n",
        "Пример:\n",
        "\n",
        "Ввод:\n",
        "\n",
        "```\n",
        "Олег, какую мызыку посоветуешь?\n",
        "```\n",
        "\n",
        "Вывод:\n",
        "\n",
        "```\n",
        "Я бы посоветовал вам: Led Zeppelin Stairway to Heaven\n",
        "```"
      ],
      "metadata": {
        "id": "Yq8Jgb9yHvSi"
      }
    },
    {
      "cell_type": "code",
      "source": [
        "from random import randint\n",
        "list_music=[1,2,3,4,5,6,7,8,9]\n",
        "list_film=['q','w','e','t','y','u']\n",
        "list_afs=[]\n",
        "att=input('Что вам нужно (\"складывать числа\", \"подсказывать фильм/ музыку\", \"список дел\",\"пока\"): ').lower().rstrip()\n",
        "while att!='пока':\n",
        "  if 'подсказывать фильм'==att:\n",
        "    print(list_film[randint(0,len(list_film)-1)])\n",
        "  elif 'подсказывать музыку'==att:\n",
        "    print(list_music[randint(0,len(list_music)-1)])\n",
        "  elif 'складывать числа'==att:\n",
        "    operation=input('Введите операцию(+,-,*,/):')\n",
        "    num_1=int(input('Введите первое число:'))\n",
        "    num_2=int(input('Введите второе число:'))\n",
        "    if operation=='+':\n",
        "      print('Результат выполнения:',num_1+num_2)\n",
        "    elif operation=='-':\n",
        "      print('Результат выполнения:',num_1-num_2)\n",
        "    elif operation=='*':\n",
        "      print('Результат выполнения:',num_1*num_2)\n",
        "    elif operation=='/':\n",
        "      if num_2!=0:\n",
        "        print('Результат выполнения:',num_1/num_2)\n",
        "      else:\n",
        "        print('второе число не может быть нулем!')\n",
        "    else:\n",
        "      print('не коректная операция!')\n",
        "  elif 'список дел':\n",
        "    afs=input('Что вы хотите сделать(\"Добавить дело\", \"Удалить дело\",\"Вывести список дел\", \"пока\"): ').lower().rstrip()\n",
        "    while afs!='пока':\n",
        "      if afs=='добавить дело' :\n",
        "        list_afs.append(input('Введите дело: ')).rstrip()\n",
        "      elif afs=='удалить дело':\n",
        "        afs_rem=input('Какое дело вы хотите удалить: ').rstrip()\n",
        "        if afs_rem in  list_afs:\n",
        "          list_afs.remove(afs_rem)\n",
        "        else:\n",
        "          print('Такого дела нету!')\n",
        "      elif afs=='вывести список дел':\n",
        "        print(list_afs)\n",
        "      afs=input('Что вы хотите сделать(\"Добавить дело\", \"Удалить дело\",\"Вывести список дел\", \"пока\"): ').lower().rstrip()\n",
        "  att=input('Что вам нужно (\"складывать числа\", \"подсказывать фильм/ музыку\", \"список дел\",\"пока\"): ').lower().rstrip()\n",
        "print('пока')"
      ],
      "metadata": {
        "id": "fmW-tmUtINN9",
        "colab": {
          "base_uri": "https://localhost:8080/"
        },
        "outputId": "ee18777b-769e-4d2c-877e-0054a6203954"
      },
      "execution_count": null,
      "outputs": [
        {
          "output_type": "stream",
          "name": "stdout",
          "text": [
            "Что вам нужно (\"складывать числа\", \"подсказывать фильм/ музыку\", \"список дел\",\"пока\"): список дел\n",
            "Что вы хотите сделать(\"Добавить дело\", \"Удалить дело\",\"Вывести список дел\", \"пока\"): удалить дело\n",
            "Какое дело вы хотите удалить: 1\n",
            "Такого дела нету!\n",
            "Что вы хотите сделать(\"Добавить дело\", \"Удалить дело\",\"Вывести список дел\", \"пока\"): пока\n",
            "Что вам нужно (\"складывать числа\", \"подсказывать фильм/ музыку\", \"список дел\",\"пока\"): пока\n",
            "пока\n"
          ]
        }
      ]
    },
    {
      "cell_type": "markdown",
      "source": [
        "# **Задача 4.**\n"
      ],
      "metadata": {
        "id": "PHXBfyc6Ko7D"
      }
    },
    {
      "cell_type": "markdown",
      "source": [
        "Камень, ножницы, бумага\n",
        "\n",
        "Создайте игру в Камень, ножницы, бумагу, в которой пользователь может играть против компьютера. Программа должна запросить выбор пользователя, а затем сгенерировать выбор компьютера. Затем программа должна определить победителя на основе правил игры.\n",
        "\n",
        "**Этап 1:**\n",
        "\n",
        "Определение победителя\n",
        "\n",
        "**Этап 2:**\n",
        "  \n",
        "Игра до 3 побед\n",
        "\n",
        "\n",
        "Ввод для \"Этап 1\":\n",
        "\n",
        "```\n",
        "Камень\n",
        "```\n",
        "\n",
        "Вывод:\n",
        "\n",
        "```\n",
        "Компьютер: Ножницы\n",
        "Игрок: Камень\n",
        "Победа: Игрок\n",
        "```"
      ],
      "metadata": {
        "id": "jnKWeYleI0j6"
      }
    },
    {
      "cell_type": "code",
      "source": [
        "from random import randint # к н б\n",
        "player=input('Ваш ход: ').lower().rstrip()\n",
        "pc=randint(0,2)\n",
        "lst=['камень','ножницы','бумага']\n",
        "if player=='ножницы' and pc==0:\n",
        "  win='компьютер'\n",
        "elif player=='бумага' and pc==1:\n",
        "  win='компьютер'\n",
        "elif player=='камень' and pc==2:\n",
        "  win='компьютер'\n",
        "elif player=='бумага' and pc==0:\n",
        "  win='Игрок'\n",
        "elif player=='камень' and pc==1:\n",
        "  win='Игрок'\n",
        "elif player=='ножницы' and pc==2:\n",
        "  win='Игрок'\n",
        "else:\n",
        "  win='ничья'\n",
        "print(f'''Компьютер: {lst[pc]}\n",
        "Игрок: {player}\n",
        "Победа: {win} ''')"
      ],
      "metadata": {
        "id": "ooIPCRe_JHkX",
        "colab": {
          "base_uri": "https://localhost:8080/"
        },
        "outputId": "cdca86f5-b939-41fc-9a36-3bf01ef8067b"
      },
      "execution_count": null,
      "outputs": [
        {
          "output_type": "stream",
          "name": "stdout",
          "text": [
            "Ваш ход: ножницы\n",
            "Компьютер: камень\n",
            "Игрок: ножницы      \n",
            "Победа: компьютер \n",
            "0\n"
          ]
        }
      ]
    },
    {
      "cell_type": "markdown",
      "source": [
        "# **Задача 5.**"
      ],
      "metadata": {
        "id": "Hg4FJNFbLHQO"
      }
    },
    {
      "cell_type": "markdown",
      "source": [
        "Создайте игру \"Палач\" или \"Виселица\", в которой пользователь должен угадать слово, предлагая буквы. Программа должна выбрать случайное слово, а затем разрешить пользователю угадывать буквы. После каждого угадывания программа должна сообщать пользователю, есть ли в слове буква или нет.\n",
        "\n",
        "**Этап 1**\n",
        "Создать саму игру (игра должна иметь привлекательный интерфейс, соотвесвующий классической висилице)\n",
        "\n",
        "**Этап 2:**\n",
        "Ввести подсчет количества очков и ограничения на попытки\n",
        "\n",
        "**Этап 3:** Добавить возможность сразу угадать слово"
      ],
      "metadata": {
        "id": "OHqj3HJuLJgY"
      }
    },
    {
      "cell_type": "code",
      "source": [
        "from random import randint\n",
        "list_str=['камень','бумага','дом','улица','машина','магазин','школа','телефон','игра','интернет','ручка','карандаш','бутылка']\n",
        "world=list_str[randint(0,len(list_str)-1)]\n",
        "att=15\n",
        "let=input(f'У вас осталось {att} попыток. Введите букву: ').lower().rstrip()\n",
        "while att!=0:\n",
        "  if let==world:\n",
        "    print(\"Победа\")\n",
        "    break\n",
        "  if world.count(let):\n",
        "    print(f'Там есть буква {let}')\n",
        "  else :\n",
        "    print(f'Там нет буквы {let}')\n",
        "  att-=1\n",
        "  let=input(f'У вас осталось {att} попыток. Введите букву: ').lower().rstrip()\n",
        "else:\n",
        "  print('Вы проиграли')"
      ],
      "metadata": {
        "id": "0N2zCYwVLiIw",
        "colab": {
          "base_uri": "https://localhost:8080/"
        },
        "outputId": "6f4bddf9-24f0-4782-f543-584cdd2d16f9"
      },
      "execution_count": null,
      "outputs": [
        {
          "output_type": "stream",
          "name": "stdout",
          "text": [
            "У вас осталось 15 попыток. Введите буквуа\n",
            "Там есть буква а\n",
            "У вас осталось 14 попыток. Введите буквуб\n",
            "Там есть буква б\n",
            "У вас осталось 13 попыток. Введите буквум\n",
            "У вас осталось 12 попыток. Введите буквуу\n",
            "Там есть буква у\n",
            "У вас осталось 11 попыток. Введите буквул\n",
            "Там есть буква л\n",
            "У вас осталось 10 попыток. Введите буквубутылка \n",
            "У вас осталось 9 попыток. Введите буквубутылка\n",
            "Попеда\n"
          ]
        }
      ]
    },
    {
      "cell_type": "markdown",
      "source": [
        "# **Дополнительно: Задача 6 (для тех, кто не сделал в прошлый раз)**\n"
      ],
      "metadata": {
        "id": "w0x3QFGzKtDD"
      }
    },
    {
      "cell_type": "markdown",
      "source": [
        "\n",
        "**Цифра на определенном месте:**\n",
        "\n",
        "Последовательно записан натуральный ряд чисел.\n",
        "\n",
        "Какая цифра стоит в N позиции\n",
        "\n",
        "\n",
        "Вввод:\n",
        "\n",
        "```\n",
        "Введите номер позиции: 1234567890\n",
        "```\n",
        "\n",
        "Вывод:\n",
        "\n",
        "```\n",
        "8\n",
        "```"
      ],
      "metadata": {
        "id": "QqZArcpHJxVj"
      }
    },
    {
      "cell_type": "code",
      "source": [
        "num=int(input(' '))\n",
        "k=p=l=0\n",
        "for i in range(len(str(num))):\n",
        "  if k>num:\n",
        "    break\n",
        "  p+=1\n",
        "  for j in range(0,9):\n",
        "    if k>num:\n",
        "      break\n",
        "    l=10**i+l\n",
        "    k=10**i*p+k\n",
        "print(l)\n",
        "nums=''.join([str(i) for i in range(l)])\n",
        "print(k,l,len(nums))\n",
        "print(nums[num])"
      ],
      "metadata": {
        "id": "LwjYwBGcKiJ9",
        "colab": {
          "base_uri": "https://localhost:8080/"
        },
        "outputId": "acd14b07-7d3a-4983-fc92-74e27e3939f9"
      },
      "execution_count": null,
      "outputs": [
        {
          "output_type": "stream",
          "name": "stdout",
          "text": [
            " 10000000\n",
            "1999999\n",
            "12888889 1999999 12888883\n",
            "7\n"
          ]
        }
      ]
    },
    {
      "cell_type": "code",
      "source": [
        "num=int(input(': '))\n",
        "nums=0\n",
        "n=num\n",
        "for i in range(len(str(num))+1):\n",
        "  if (n-nums)//3<=10**i:break\n",
        "  nums=10**i*9*i+nums\n",
        "nums=nums/10\n",
        "n=str((n-nums)//i+10**(i-1)-1)\n",
        "print(n,i,n[int((num-nums)%i)*-1])"
      ],
      "metadata": {
        "colab": {
          "base_uri": "https://localhost:8080/"
        },
        "id": "OCJbjtYDt1xN",
        "outputId": "890e175d-55da-42c3-f6dd-899392927ea6"
      },
      "execution_count": null,
      "outputs": [
        {
          "output_type": "stream",
          "name": "stdout",
          "text": [
            ": 100\n",
            "54.0 2 0\n"
          ]
        }
      ]
    }
  ]
}