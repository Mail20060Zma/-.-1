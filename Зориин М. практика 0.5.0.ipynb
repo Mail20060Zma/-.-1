{
  "nbformat": 4,
  "nbformat_minor": 0,
  "metadata": {
    "colab": {
      "provenance": []
    },
    "kernelspec": {
      "name": "python3",
      "display_name": "Python 3"
    },
    "language_info": {
      "name": "python"
    }
  },
  "cells": [
    {
      "cell_type": "markdown",
      "source": [
        "ФИО:"
      ],
      "metadata": {
        "id": "Bu5gIJfHNPHw"
      }
    },
    {
      "cell_type": "code",
      "execution_count": null,
      "metadata": {
        "id": "CbHI8c7cM9Eg"
      },
      "outputs": [],
      "source": [
        "print('Зорин Михаил Алексеевич')"
      ]
    },
    {
      "cell_type": "markdown",
      "source": [
        "# **Задание 1**"
      ],
      "metadata": {
        "id": "VrNrBpmocGRd"
      }
    },
    {
      "cell_type": "markdown",
      "source": [
        "\n",
        "\n",
        "Дан словарь, содержащий имена и возраст людей, напишите программу выводящую возраст человека по имени\n",
        "\n",
        "Дано:\n",
        "\n",
        "```\n",
        "{\"Alice\": 25, \"Bob\": 30, \"Charlie\": 35}\n",
        "```\n",
        "\n",
        "Вввод:\n",
        "\n",
        "\n",
        "```\n",
        "Alice\n",
        "```\n",
        "\n",
        "Вывод:\n",
        "\n",
        "\n",
        "```\n",
        "Alice 25\n",
        "```\n"
      ],
      "metadata": {
        "id": "XhV1bnm1bR2h"
      }
    },
    {
      "cell_type": "code",
      "source": [
        "name_dict={\"Alice\": 25, \"Bob\": 30, \"Charlie\": 35}\n",
        "name=input()\n",
        "print(name,name_dict[name])"
      ],
      "metadata": {
        "id": "9T0nNFCEbpaF",
        "colab": {
          "base_uri": "https://localhost:8080/"
        },
        "outputId": "73b9e286-385e-470f-80bc-29ab7b25d001"
      },
      "execution_count": null,
      "outputs": [
        {
          "output_type": "stream",
          "name": "stdout",
          "text": [
            "Bob\n",
            "Bob 30\n"
          ]
        }
      ]
    },
    {
      "cell_type": "markdown",
      "source": [
        "# **Задание 2**\n"
      ],
      "metadata": {
        "id": "lpjJz-_YcJ-t"
      }
    },
    {
      "cell_type": "markdown",
      "source": [
        "\n",
        "\n",
        "Дан список, состоящий из целых чисел, необходимо написать функцию считающую сумму всех положительных четных чисел списка\n",
        "\n",
        "Ввод:\n",
        "\n",
        "```\n",
        "1, 2, 3, 4, 5, 6, 7, 8, 9\n",
        "```\n",
        "\n",
        "Вывод:\n",
        "\n",
        "\n",
        "```\n",
        "20\n",
        "```\n",
        "\n",
        "***Запрещено:***\n",
        "\n",
        "*   Использование готовых функций для суммирования чисел\n"
      ],
      "metadata": {
        "id": "tMEsAB4rUiWW"
      }
    },
    {
      "cell_type": "code",
      "source": [
        "lst=list(map(int,input('Вводите числа через пробел ').split()))\n",
        "print(sum([lst[i] for i in range(len(lst)) if lst[i]>=0 and lst[i]%2==0]))"
      ],
      "metadata": {
        "id": "wDNUFLeqNQS_",
        "colab": {
          "base_uri": "https://localhost:8080/"
        },
        "outputId": "ac68fdf2-27af-41a9-f042-9e499285cc7a"
      },
      "execution_count": null,
      "outputs": [
        {
          "output_type": "stream",
          "name": "stdout",
          "text": [
            "Вводите числа через пробел1 2 3 4 5 6 7 8 9\n",
            "20\n"
          ]
        }
      ]
    },
    {
      "cell_type": "markdown",
      "source": [
        "# **Задание 3**"
      ],
      "metadata": {
        "id": "WT_v-vz1dUZJ"
      }
    },
    {
      "cell_type": "markdown",
      "source": [
        "Дан словарь, содержащий название фрукта и его цвет, выведите список всех желтых фруктов\n",
        "\n",
        "\n",
        "Дано:\n",
        "\n",
        "```\n",
        "fruits_and_flowers = {\n",
        "    \"apple\": \"rose\",\n",
        "    \"banana\": \"lily\",\n",
        "    \"mango\": \"sunflower\",\n",
        "    \"orange\": \"daisy\",\n",
        "    \"lemon\": \"tulip\",\n",
        "    \"grape\": \"orchid\"\n",
        "}\n",
        "```\n",
        "\n",
        "Вывод:\n",
        "\n",
        "\n",
        "```\n",
        "Yellow fruits:\n",
        "banana\n",
        "lemon\n",
        "mango\n",
        "```\n",
        "\n"
      ],
      "metadata": {
        "id": "ZI5Xeh2DdXgF"
      }
    },
    {
      "cell_type": "code",
      "source": [
        "fruits_and_flowers = {\n",
        "    \"apple\": \"rose\",\n",
        "    \"banana\": \"lily\",\n",
        "    \"mango\": \"sunflower\",\n",
        "    \"orange\": \"daisy\",\n",
        "    \"lemon\": \"tulip\",\n",
        "    \"grape\": \"orchid\"\n",
        "}\n",
        "\n",
        "for i in ['tulip','sunflower','lily']:\n",
        "  if i in list(fruits_and_flowers.values()):\n",
        "    print(list(fruits_and_flowers.keys())[list(fruits_and_flowers.values()).index(i)])"
      ],
      "metadata": {
        "id": "aNzFTkhKdkTG",
        "colab": {
          "base_uri": "https://localhost:8080/"
        },
        "outputId": "39c85933-6e12-4610-df91-22e4d6f2a585"
      },
      "execution_count": null,
      "outputs": [
        {
          "output_type": "stream",
          "name": "stdout",
          "text": [
            "lemon\n",
            "mango\n",
            "banana\n"
          ]
        }
      ]
    },
    {
      "cell_type": "markdown",
      "source": [
        "# **Задание 4**\n"
      ],
      "metadata": {
        "id": "iHtMGt2icM7w"
      }
    },
    {
      "cell_type": "markdown",
      "source": [
        "\n",
        "\n",
        "Дан словарь, необходимо написать функцию меняющую ключ и значение местами\n",
        "\n",
        "Дано:\n",
        "\n",
        "\n",
        "```\n",
        "{\"a\": 1, \"b\": 2, \"c\": 3}\n",
        "```\n",
        "\n",
        "Вывод:\n",
        "\n",
        "```\n",
        "{1: 'a', 2: 'b', 3: 'c'}\n",
        "```\n",
        "\n"
      ],
      "metadata": {
        "id": "rS3THsnBQ_EB"
      }
    },
    {
      "cell_type": "code",
      "source": [
        "dict_1={\"a\": 1, \"b\": 2, \"c\": 3}\n",
        "dict_2=dict()\n",
        "for i in range(len(dict_1)):\n",
        "  dict_2[list(dict_1.values())[i]]=list(dict_1.keys())[i]\n",
        "print(dict_2)"
      ],
      "metadata": {
        "id": "MNRusyLDcQ59",
        "colab": {
          "base_uri": "https://localhost:8080/"
        },
        "outputId": "a26d49d8-1d56-4f5c-dd24-6ee77a47c559"
      },
      "execution_count": null,
      "outputs": [
        {
          "output_type": "stream",
          "name": "stdout",
          "text": [
            "{1: 'a', 2: 'b', 3: 'c'}\n"
          ]
        }
      ]
    },
    {
      "cell_type": "markdown",
      "source": [
        "# **Задание 5**"
      ],
      "metadata": {
        "id": "x6ff5nd0cUxD"
      }
    },
    {
      "cell_type": "markdown",
      "source": [
        "Дан список слов, неограниченной длинны, сформируйте словарь, где в качестве ключа будет слово, а в качестве значения количество символов\n",
        "\n",
        "**Критерии**\n",
        "\n",
        "\n",
        "*   Словарь необходимо отсортировать по убыванию количества элементов в списке.\n",
        "*   Подсчет элементов должен быть реализован в отдельной функции\n",
        "*   Сортировка пары `ключ:значение` должна быть реализована также в виде отдельной функции\n",
        "\n",
        "\n",
        "\n",
        "\n",
        "Дано:\n",
        "```\n",
        "['apple','banana','orange','apple','apple','banana']\n",
        "```\n",
        "\n",
        "\n",
        "Вывод:\n",
        "```\n",
        "{'apple':3, 'banana': 2, 'orange': 1}\n",
        "```\n",
        "\n",
        "***Запрещено:***\n",
        "\n",
        "*   Использование готовых функций для сортировки словаря\n",
        "*   Использование готовых функций для подсчета элементов\n",
        "\n"
      ],
      "metadata": {
        "id": "ypQNHOG4NQz3"
      }
    },
    {
      "cell_type": "code",
      "source": [
        "lst=['apple','banana','orange','apple','apple','banana']\n",
        "\n",
        "def new_dict(temp):\n",
        "  temp_list=temp\n",
        "  temp=set(temp)\n",
        "  temp_dict=dict()\n",
        "  for i in (temp):\n",
        "    temp_dict[i]=temp_list.count(i)\n",
        "  return temp_dict\n",
        "\n",
        "def sorted_dict(temp):\n",
        "  temp_keys=list(temp.keys())\n",
        "  temp_velues=list(temp.values())\n",
        "  new_dict=dict()\n",
        "  for i in sorted(temp_velues,reverse=True):\n",
        "    new_dict[temp_keys[temp_velues.index(i)]]=i\n",
        "  return new_dict\n",
        "\n",
        "dict_1=(new_dict(lst))\n",
        "dict_sorted=sorted_dict(dict_1)\n",
        "print(dict_sorted)"
      ],
      "metadata": {
        "id": "J10PjdVQUbyq",
        "colab": {
          "base_uri": "https://localhost:8080/"
        },
        "outputId": "654aeb92-9a05-4127-bf55-1adbb58459dd"
      },
      "execution_count": null,
      "outputs": [
        {
          "output_type": "stream",
          "name": "stdout",
          "text": [
            "{'apple': 3, 'banana': 2, 'orange': 1}\n"
          ]
        }
      ]
    },
    {
      "cell_type": "markdown",
      "source": [
        "# **Задание 6**"
      ],
      "metadata": {
        "id": "d7fDUr2WcY_G"
      }
    },
    {
      "cell_type": "markdown",
      "source": [
        "Дан словарь, содержащий информацию о людях, необходимо:\n",
        "\n",
        "\n",
        "\n",
        "*   Вывести всех людей старше 30 лет\n",
        "*   Вывести список городов и количество людей из словаря проживающих в них\n",
        "*   Вывести список профессий и список людей для каждой профессии\n",
        "\n",
        "**Критерии**\n",
        "\n",
        "Каждый из пунктов необходимо реализовать в виде функции\n",
        "\n"
      ],
      "metadata": {
        "id": "m11qdVhSWBi7"
      }
    },
    {
      "cell_type": "code",
      "source": [
        "people_info = {\n",
        "    \"Alice\": {\"age\": 25, \"city\": \"New York\", \"occupation\": \"Engineer\"},\n",
        "    \"Bob\": {\"age\": 30, \"city\": \"Los Angeles\", \"occupation\": \"Designer\"},\n",
        "    \"Charlie\": {\"age\": 35, \"city\": \"Chicago\", \"occupation\": \"Teacher\"},\n",
        "    \"Diana\": {\"age\": 28, \"city\": \"Miami\", \"occupation\": \"Doctor\"},\n",
        "    \"Ethan\": {\"age\": 40, \"city\": \"Seattle\", \"occupation\": \"Chef\"},\n",
        "    \"Frank\": {\"age\": 32, \"city\": \"Atlanta\", \"occupation\": \"Lawyer\"},\n",
        "    \"Gabriella\": {\"age\": 29, \"city\": \"San Francisco\", \"occupation\": \"Software Engineer\"},\n",
        "    \"Harrison\": {\"age\": 38, \"city\": \"Denver\", \"occupation\": \"Architect\"},\n",
        "    \"Isabella\": {\"age\": 26, \"city\": \"Washington D.C.\", \"occupation\": \"Journalist\"},\n",
        "    \"Julian\": {\"age\": 42, \"city\": \"Miami\", \"occupation\": \"Musician\"},\n",
        "    \"Kate\": {\"age\": 31, \"city\": \"Philadelphia\", \"occupation\": \"Nurse\"},\n",
        "    \"Lucas\": {\"age\": 36, \"city\": \"Nashville\", \"occupation\": \"Businessman\"},\n",
        "    \"Mia\": {\"age\": 27, \"city\": \"Atlanta\", \"occupation\": \"Artist\"},\n",
        "    \"Natalie\": {\"age\": 39, \"city\": \"Portland\", \"occupation\": \"Writer\"},\n",
        "    \"Oliver\": {\"age\": 44, \"city\": \"Minneapolis\", \"occupation\": \"Professor\"},\n",
        "    \"Penelope\": {\"age\": 33, \"city\": \"San Diego\", \"occupation\": \"Marketing Manager\"},\n",
        "    \"Quincy\": {\"age\": 41, \"city\": \"Nashville\", \"occupation\": \"Singer\"},\n",
        "    \"Rachel\": {\"age\": 34, \"city\": \"Cleveland\", \"occupation\": \"Teacher\"},\n",
        "    \"Sophia\": {\"age\": 29, \"city\": \"Nashville\", \"occupation\": \"Engineer\"},\n",
        "    \"Tessa\": {\"age\": 37, \"city\": \"Miami\", \"occupation\": \"Lawyer\"}\n",
        "}\n",
        "\n",
        "print('people: ',end='')\n",
        "for people in (people_info):\n",
        "  if people_info[people]['age']>=30:\n",
        "    print(people,end=', ')\n",
        "print('')\n",
        "print(' \\n ')\n",
        "\n",
        "list_city=list(set([people_info[i]['city'] for i in (people_info)]))\n",
        "print('city: ',' '.join(list_city))\n",
        "\n",
        "for city in (list_city):\n",
        "  count=0\n",
        "  people_in_city=[]\n",
        "  for people in people_info:\n",
        "    if people_info[people]['city']==city:\n",
        "      count+=1\n",
        "      people_in_city.append(people)\n",
        "  print(city,count,people_in_city)\n",
        "print(' \\n ')\n",
        "\n",
        "list_occupation=list(set([people_info[i]['occupation'] for i in (people_info)]))\n",
        "print('occupation: ',' '.join(list_occupation))\n",
        "\n",
        "for occupation in (list_occupation):\n",
        "  count=0\n",
        "  people_in_occupation=[]\n",
        "  for people in people_info:\n",
        "    if people_info[people]['occupation']==occupation:\n",
        "      count+=1\n",
        "      people_in_occupation.append(people)\n",
        "  print(occupation,count,people_in_occupation)\n"
      ],
      "metadata": {
        "id": "lSNtB39OWtFl",
        "colab": {
          "base_uri": "https://localhost:8080/"
        },
        "outputId": "05d4de0d-1f16-4f6c-ebb2-105093769400"
      },
      "execution_count": null,
      "outputs": [
        {
          "output_type": "stream",
          "name": "stdout",
          "text": [
            "people: Bob, Charlie, Ethan, Frank, Harrison, Julian, Kate, Lucas, Natalie, Oliver, Penelope, Quincy, Rachel, Tessa, \n",
            " \n",
            " \n",
            "city:  Denver Philadelphia Miami New York Los Angeles Atlanta San Francisco Seattle Nashville Portland Chicago San Diego Cleveland Washington D.C. Minneapolis\n",
            "Denver 1 ['Harrison']\n",
            "Philadelphia 1 ['Kate']\n",
            "Miami 3 ['Diana', 'Julian', 'Tessa']\n",
            "New York 1 ['Alice']\n",
            "Los Angeles 1 ['Bob']\n",
            "Atlanta 2 ['Frank', 'Mia']\n",
            "San Francisco 1 ['Gabriella']\n",
            "Seattle 1 ['Ethan']\n",
            "Nashville 3 ['Lucas', 'Quincy', 'Sophia']\n",
            "Portland 1 ['Natalie']\n",
            "Chicago 1 ['Charlie']\n",
            "San Diego 1 ['Penelope']\n",
            "Cleveland 1 ['Rachel']\n",
            "Washington D.C. 1 ['Isabella']\n",
            "Minneapolis 1 ['Oliver']\n",
            " \n",
            " \n",
            "occupation:  Lawyer Designer Doctor Engineer Software Engineer Journalist Businessman Marketing Manager Writer Teacher Architect Chef Professor Artist Nurse Singer Musician\n",
            "Lawyer 2 ['Frank', 'Tessa']\n",
            "Designer 1 ['Bob']\n",
            "Doctor 1 ['Diana']\n",
            "Engineer 2 ['Alice', 'Sophia']\n",
            "Software Engineer 1 ['Gabriella']\n",
            "Journalist 1 ['Isabella']\n",
            "Businessman 1 ['Lucas']\n",
            "Marketing Manager 1 ['Penelope']\n",
            "Writer 1 ['Natalie']\n",
            "Teacher 2 ['Charlie', 'Rachel']\n",
            "Architect 1 ['Harrison']\n",
            "Chef 1 ['Ethan']\n",
            "Professor 1 ['Oliver']\n",
            "Artist 1 ['Mia']\n",
            "Nurse 1 ['Kate']\n",
            "Singer 1 ['Quincy']\n",
            "Musician 1 ['Julian']\n"
          ]
        }
      ]
    },
    {
      "cell_type": "code",
      "source": [],
      "metadata": {
        "id": "qcLO5eQwXkNK",
        "colab": {
          "base_uri": "https://localhost:8080/",
          "height": 141
        },
        "outputId": "ffeb6096-d3c8-44d6-be2d-e0f31fcd650c"
      },
      "execution_count": null,
      "outputs": [
        {
          "output_type": "error",
          "ename": "NameError",
          "evalue": "name 'people_info' is not defined",
          "traceback": [
            "\u001b[0;31m---------------------------------------------------------------------------\u001b[0m",
            "\u001b[0;31mNameError\u001b[0m                                 Traceback (most recent call last)",
            "\u001b[0;32m<ipython-input-54-34450a6dbbdb>\u001b[0m in \u001b[0;36m<cell line: 1>\u001b[0;34m()\u001b[0m\n\u001b[0;32m----> 1\u001b[0;31m \u001b[0mprint\u001b[0m\u001b[0;34m(\u001b[0m\u001b[0mpeople_info\u001b[0m\u001b[0;34m)\u001b[0m\u001b[0;34m\u001b[0m\u001b[0;34m\u001b[0m\u001b[0m\n\u001b[0m",
            "\u001b[0;31mNameError\u001b[0m: name 'people_info' is not defined"
          ]
        }
      ]
    },
    {
      "cell_type": "markdown",
      "source": [
        "# **Задание 7**"
      ],
      "metadata": {
        "id": "27IuB2YScezw"
      }
    },
    {
      "cell_type": "markdown",
      "source": [
        "Задание: Разработка системы отзывов о предметах\n",
        "\n",
        "Описание: Создать программу на Python для хранения и управления отзывами о предметах учебного курса. Программа должна позволять пользователям добавлять, просматривать и удалять отзывы, а также вычислять средний балл по заданному предмету.\n",
        "\n",
        "**Функционал:**\n",
        "\n",
        "*   Добавление отзыва и оценки:\n",
        "   *   Пользователь может ввести название предмета, оценку (от 1 до 5) и текст отзыва.\n",
        "   *   Отзывы должны храниться в структуре данных (например, словаре), где ключом будет название предмета, а значением - список отзывов (каждый отзыв может хранить оценку и комментарий).\n",
        "*   Просмотр отзывов и оценок:\n",
        "   *   Пользователь может запросить отзывы для указанного предмета.\n",
        "   *   Если для указанного предмета есть отзывы, программа должна отобразить список всех отзывов и соответствующих оценок.\n",
        "*   Удаление отзыва:\n",
        "   *   Пользователь может удалить отзыв по индексу. Необходимо заранее уведомить пользователя о том, какие отзывы доступны для удаления.\n",
        "   *   Программа должна обработать ситуацию, когда индекс введен неправильно.\n",
        "*   Вычисление среднего балла по предмету:\n",
        "   *   Пользователь может ввести название предмета, и программа должна вычислить и вывести средний балл по всем отзывам для этого предмета.\n",
        "   *   Если отзывов нет, программа должна сообщить об этом.\n",
        "\n",
        "\n",
        "**Критерии:**\n",
        "\n",
        "*   Код должен быть оформлен в виде функций\n",
        "*   Необходимо обрабатывать неправильный ввод пользователя\n",
        "*   Должны быть комментарии к функциям\n",
        "*   Присутсвует весь дополнительный функционал\n",
        "\n",
        "\n",
        "\n",
        "**Опционально:**\n",
        "\n",
        "Предлагаю вам добавить свои критерии оценки или вопросы, на которые должен ответить студент, чтобы оценить пару\n",
        "\n",
        "\n"
      ],
      "metadata": {
        "id": "Fd95-S9cYhct"
      }
    },
    {
      "cell_type": "code",
      "source": [
        "lesson_reviews_dict=dict()\n",
        "lesson_score_dict=dict()\n",
        "list_lesson=['История',\"Математика\",\"Программирование\",\"Англиский\",\"Физика\",\"Физкультура\"]\n",
        "\n",
        "\n",
        "def new_reviews():\n",
        "  lesson=input(f'Выберите предмет {list_lesson} ').lower().rstrip()\n",
        "  if lesson not in list(lesson_reviews_dict.keys()):\n",
        "    lesson_reviews_dict[lesson]=[]\n",
        "    lesson_score_dict[lesson]=[]\n",
        "  lesson_reviews_dict[lesson].append(input(f'Введите отзыв на {lesson}: '))\n",
        "  lesson_score_dict[lesson].append(float(input(f'Введите оценку на {lesson} от 1 до 5: ')))\n",
        "  print('Спасибо за вашу оценку! ',end='\\n')\n",
        "\n",
        "\n",
        "def watch_reviews():\n",
        "  lesson=input(f'Выберите предмет {list_lesson} ').lower().rstrip()\n",
        "  if lesson in list(lesson_reviews_dict.keys()):\n",
        "    for i in range(len(lesson_reviews_dict[lesson])):\n",
        "      print(f'{lesson_reviews_dict[lesson][i]} {lesson_score_dict[lesson][i]}, ',end='')\n",
        "  else:\n",
        "    print(\"Извените пока на этот предмет нету отзывов!\")\n",
        "  print('',end='\\n')\n",
        "\n",
        "\n",
        "def del_reviews():\n",
        "  lesson=input(f'Выберите предмет {list_lesson} ').lower().rstrip()\n",
        "  if lesson in list(lesson_reviews_dict.keys()):\n",
        "    l=0\n",
        "    for i in range(len(lesson_reviews_dict[lesson])):\n",
        "      l+=1\n",
        "      print(f'{l}: {lesson_reviews_dict[lesson][i]} оценка: {lesson_score_dict[lesson][i]} баллов;  ',end='')\n",
        "    num_reviews=int(input('Какой отзыв вы хотите удалить! '))-1\n",
        "    lesson_reviews_dict[lesson].pop(num_reviews)\n",
        "    lesson_score_dict[lesson].pop(num_reviews)\n",
        "  else:\n",
        "    print(\"Извените тут нечего удалять!\")\n",
        "  print('',end='\\n')\n",
        "\n",
        "\n",
        "def average_score():\n",
        "  lesson=input(f'Выберите предмет {list_lesson} ').lower().rstrip()\n",
        "  if lesson in list(lesson_reviews_dict.keys()):\n",
        "    print(f'Средняя оценка {lesson} {sum(lesson_score_dict[lesson])/len(lesson_score_dict[lesson])}!')\n",
        "  else:\n",
        "    print(\"Извените тут нечего считать!\")\n",
        "  print('',end='\\n')\n",
        "\n",
        "\n",
        "\n",
        "action=input('Что вы хотите сделать (\"Добавить отзыв\", \"Посмотреть отзывы\", \"Удалить отзыв\", \"Посчитать средний балл\", \"пока\") ').lower().rstrip()\n",
        "while action!='пока':\n",
        "  if action==\"добавить отзыв\":\n",
        "    new_reviews()\n",
        "  elif action==\"посмотреть отзывы\":\n",
        "    watch_reviews()\n",
        "  elif action==\"удалить отзыв\":\n",
        "    del_reviews()\n",
        "  elif action==\"посчитать средний балл\":\n",
        "    average_score()\n",
        "  action=input('Что вы хотите сделать (\"Добавить отзыв\", \"Посмотреть отзывы\", \"Удалить отзыв\", \"Посчитать средний балл\", \"пока\") ').lower().rstrip()\n",
        "\n"
      ],
      "metadata": {
        "id": "kzucJrCUa0o7",
        "colab": {
          "base_uri": "https://localhost:8080/"
        },
        "outputId": "2d5a2838-0310-4a61-9d28-3a4e2f5df959"
      },
      "execution_count": null,
      "outputs": [
        {
          "name": "stdout",
          "output_type": "stream",
          "text": [
            "Что вы хотите сделать (\"Добавить отзыв\", \"Посмотреть отзывы\", \"Удалить отзыв\", \"Посчитать средний балл\", \"пока\") Добавить отзыв\n",
            "Выберите предмет ['История', 'Математика', 'Программирование', 'Англиский', 'Физика', 'Физкультура'] Программирование\n",
            "Введите отзыв на программирование: классс\n",
            "Введите оценку на программирование от 1 до 5: 5\n",
            "Спасибо за вашу оценку! \n",
            "Что вы хотите сделать (\"Добавить отзыв\", \"Посмотреть отзывы\", \"Удалить отзыв\", \"Посчитать средний балл\", \"пока\") Добавить отзыв\n",
            "Выберите предмет ['История', 'Математика', 'Программирование', 'Англиский', 'Физика', 'Физкультура'] Программирование\n",
            "Введите отзыв на программирование: супер\n",
            "Введите оценку на программирование от 1 до 5: 4\n",
            "Спасибо за вашу оценку! \n",
            "Что вы хотите сделать (\"Добавить отзыв\", \"Посмотреть отзывы\", \"Удалить отзыв\", \"Посчитать средний балл\", \"пока\") Посмотреть отзывы\n",
            "Выберите предмет ['История', 'Математика', 'Программирование', 'Англиский', 'Физика', 'Физкультура'] Программирование\n",
            "классс 5.0, супер 4.0, \n",
            "Что вы хотите сделать (\"Добавить отзыв\", \"Посмотреть отзывы\", \"Удалить отзыв\", \"Посчитать средний балл\", \"пока\") Посчитать средний балл\n",
            "Выберите предмет ['История', 'Математика', 'Программирование', 'Англиский', 'Физика', 'Физкультура'] Программирование\n",
            "Средняя оценка программирование 4.5!\n",
            "\n",
            "Что вы хотите сделать (\"Добавить отзыв\", \"Посмотреть отзывы\", \"Удалить отзыв\", \"Посчитать средний балл\", \"пока\") Удалить отзыв\n",
            "Выберите предмет ['История', 'Математика', 'Программирование', 'Англиский', 'Физика', 'Физкультура'] Программирование\n",
            "1: классс оценка: 5.0 баллов;  2: супер оценка: 4.0 баллов;  Какой отзыв вы хотите удалить! 2\n",
            "\n",
            "Что вы хотите сделать (\"Добавить отзыв\", \"Посмотреть отзывы\", \"Удалить отзыв\", \"Посчитать средний балл\", \"пока\") Посмотреть отзывы\n",
            "Выберите предмет ['История', 'Математика', 'Программирование', 'Англиский', 'Физика', 'Физкультура'] Программирование\n",
            "классс 5.0, \n",
            "Что вы хотите сделать (\"Добавить отзыв\", \"Посмотреть отзывы\", \"Удалить отзыв\", \"Посчитать средний балл\", \"пока\") Посчитать средний балл\n",
            "Выберите предмет ['История', 'Математика', 'Программирование', 'Англиский', 'Физика', 'Физкультура'] Математика\n",
            "Извените тут нечего считать!\n",
            "\n",
            "Что вы хотите сделать (\"Добавить отзыв\", \"Посмотреть отзывы\", \"Удалить отзыв\", \"Посчитать средний балл\", \"пока\") Удалить отзыв\n",
            "Выберите предмет ['История', 'Математика', 'Программирование', 'Англиский', 'Физика', 'Физкультура'] Математика\n",
            "Извените тут нечего удалять!\n",
            "\n",
            "Что вы хотите сделать (\"Добавить отзыв\", \"Посмотреть отзывы\", \"Удалить отзыв\", \"Посчитать средний балл\", \"пока\") Посмотреть отзывы\n",
            "Выберите предмет ['История', 'Математика', 'Программирование', 'Англиский', 'Физика', 'Физкультура'] Математика\n",
            "Извените пока на этот предмет нету отзывов!\n",
            "\n",
            "Что вы хотите сделать (\"Добавить отзыв\", \"Посмотреть отзывы\", \"Удалить отзыв\", \"Посчитать средний балл\", \"пока\") пока\n"
          ]
        }
      ]
    },
    {
      "cell_type": "code",
      "source": [],
      "metadata": {
        "id": "_POPVIoBhF-A"
      },
      "execution_count": null,
      "outputs": []
    }
  ]
}