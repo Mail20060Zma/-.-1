{
  "nbformat": 4,
  "nbformat_minor": 0,
  "metadata": {
    "colab": {
      "provenance": []
    },
    "kernelspec": {
      "name": "python3",
      "display_name": "Python 3"
    },
    "language_info": {
      "name": "python"
    }
  },
  "cells": [
    {
      "cell_type": "markdown",
      "source": [
        "\n",
        "\n",
        "---\n",
        "\n"
      ],
      "metadata": {
        "id": "tKNG_RzWxG6g"
      }
    },
    {
      "cell_type": "markdown",
      "source": [
        "# **Дисклеймер**\n",
        "\n",
        "В данной практике будет введен дополнительный критерий: чистота и читаемость кода, а также соблюдение правил описанных в начале практики"
      ],
      "metadata": {
        "id": "cFcrKfclKWh0"
      }
    },
    {
      "cell_type": "markdown",
      "source": [
        "\n",
        "\n",
        "---\n",
        "\n"
      ],
      "metadata": {
        "id": "0SnE87X1xDlV"
      }
    },
    {
      "cell_type": "markdown",
      "source": [
        "# Задание 1\n",
        "\n",
        "**Задача:**\n",
        "\n",
        "Напишите функцию очищающий список от дубликтов\n",
        "\n",
        "\n",
        "*Запрещено:*\n",
        "\n",
        "*   Использовать set() или готовые функции очищающие список от дубликатов\n",
        "\n",
        "Вввод:\n",
        "\n",
        "```\n",
        "apple banana apple 1 3 4 4 5\n",
        "```\n",
        "\n",
        "\n",
        "Вывод:\n",
        "\n",
        "```\n",
        "apple banana 1 3 4 5\n",
        "```\n",
        "\n"
      ],
      "metadata": {
        "id": "VxawR9NubT_F"
      }
    },
    {
      "cell_type": "code",
      "source": [
        "lst=['apple', 'banana', 'apple', 1, 3, 4, 4, 5]\n",
        "new_lst=[]\n",
        "\n",
        "for i in range(len(lst)):\n",
        "  if lst[i] not in new_lst:\n",
        "    new_lst.append(lst[i])\n",
        "\n",
        "print(new_lst)\n"
      ],
      "metadata": {
        "id": "ml5gnbPXbeju",
        "colab": {
          "base_uri": "https://localhost:8080/"
        },
        "outputId": "b10f2684-f486-43a7-f689-e8ee4170688a"
      },
      "execution_count": null,
      "outputs": [
        {
          "output_type": "stream",
          "name": "stdout",
          "text": [
            "['apple', 'banana', 1, 3, 4, 5]\n"
          ]
        }
      ]
    },
    {
      "cell_type": "markdown",
      "source": [
        "# Задание 2\n",
        "\n",
        "**Задача:**\n",
        "\n",
        "Написать функцию для нахождения простых чисел в диапазоне\n",
        "\n",
        "Ввод:\n",
        "\n",
        "```\n",
        "10, 50\n",
        "```\n",
        "\n",
        "Вывод:\n",
        "\n",
        "```\n",
        "11, 13, 17, 19, 23, 29, 31, 37, 41, 43, 47\n",
        "```"
      ],
      "metadata": {
        "id": "y05x0eD0cVCC"
      }
    },
    {
      "cell_type": "code",
      "source": [
        "def simple_nums(start,end):\n",
        "  for i in range(start,end+1):\n",
        "    for j in range(2,i):\n",
        "      if i%j==0:\n",
        "        break\n",
        "    else:\n",
        "      print(i,end=', ')\n",
        "\n",
        "simple_nums(10,50)"
      ],
      "metadata": {
        "id": "XSMJnLgrc6Bf",
        "colab": {
          "base_uri": "https://localhost:8080/"
        },
        "outputId": "2d8e83df-e1f4-4134-b9be-3a3a642c9b0f"
      },
      "execution_count": null,
      "outputs": [
        {
          "output_type": "stream",
          "name": "stdout",
          "text": [
            "11, 13, 17, 19, 23, 29, 31, 37, 41, 43, 47, "
          ]
        }
      ]
    },
    {
      "cell_type": "markdown",
      "source": [
        "# Задание 3\n",
        "\n",
        "Напишите функцию для объединения двух списков (список ключей и список значении) в словарь\n",
        "\n",
        "*Запрещено:*\n",
        "\n",
        "*   Использования готовых функции для объединения списков (пример: zip() )\n",
        "\n",
        "Дано:\n",
        "\n",
        "```\n",
        "keys = ['a', 'b', 'c', 'e' ]\n",
        "values = [1, 2, 3, 4]\n",
        "```\n",
        "\n",
        "Вывод:\n",
        "```\n",
        "{'a': 1, 'b': 2, 'c': 3, 'e': 4}\n",
        "```\n",
        "\n",
        "\n"
      ],
      "metadata": {
        "id": "vYM0LyxxdElN"
      }
    },
    {
      "cell_type": "code",
      "source": [
        "keys = ['a', 'b', 'c', 'e' ]\n",
        "values = [1, 2, 3, 4]\n",
        "dict={}\n",
        "\n",
        "for i in range(len(keys)):\n",
        "  dict[keys[i]]=values[i]\n",
        "\n",
        "print(dict)"
      ],
      "metadata": {
        "id": "CRvhHTjCdvjS",
        "colab": {
          "base_uri": "https://localhost:8080/"
        },
        "outputId": "db0629d9-76a9-4a24-91ac-d87e86e38dfc"
      },
      "execution_count": null,
      "outputs": [
        {
          "output_type": "stream",
          "name": "stdout",
          "text": [
            "{'a': 1, 'b': 2, 'c': 3, 'e': 4}\n"
          ]
        }
      ]
    },
    {
      "cell_type": "markdown",
      "source": [
        "# Задание 4\n",
        "\n",
        "Напишите функцию(ии) для подсчета статистических параметров:\n",
        "*   Сумму\n",
        "*   Среднее арифметическое\n",
        "*   Медиану\n",
        "*   Моду\n",
        "\n",
        "\n",
        "*Запрещено:*\n",
        "\n",
        "*   sum()\n",
        "*   sorted()\n",
        "*   и других функции предоставляющих готовое решение задания\n",
        "\n",
        "Дано:\n",
        "\n",
        "```\n",
        "numbers = [1, 2, 2, 3, 4, 5, 6, 7, 8 ,9 ,10]\n",
        "\n",
        "```\n",
        "\n",
        "Вывод:\n",
        "```\n",
        "{'mean': 5.181818181818182, 'median': 5, 'mode': 2, 'sum': 57}\n",
        "```\n"
      ],
      "metadata": {
        "id": "L_w8H8i-fQcP"
      }
    },
    {
      "cell_type": "code",
      "source": [
        "numbers = [1, 2, 2, 3, 4, 5, 6, 7, 8 ,9 ,10]\n",
        "dict_result={}\n",
        "\n",
        "def max_nums(temp_lst):\n",
        "  temp_max=0\n",
        "  for i in temp_lst:\n",
        "    if temp_max<i:\n",
        "      temp_max=i\n",
        "  return temp_max\n",
        "\n",
        "def sums_nums(temp_lst):\n",
        "  temp_sums=0\n",
        "  for i in temp_lst:\n",
        "    temp_sums+=i\n",
        "  return temp_sums\n",
        "\n",
        "def ave_nums(temp_lst):\n",
        "  return sums_nums(temp_lst)/len(temp_lst)\n",
        "\n",
        "def mid_nums(temp_lst):\n",
        "  if len(temp_lst)%2!=0:\n",
        "    return temp_lst[len(temp_lst)//2]\n",
        "  return  ((len(numbers)//2)+(len(numbers)//2)+1)/2\n",
        "\n",
        "def mode_nums(temp_lst):\n",
        "  temp_dict={}\n",
        "  for i in temp_lst:\n",
        "    temp_dict[i]=temp_lst.count(i)\n",
        "  return temp_dict[list(temp_dict.keys())[list(temp_dict.values()).index(max_nums(list(temp_dict.values())))]]\n",
        "\n",
        "dict_result['mean']=ave_nums(numbers)\n",
        "dict_result['median']=mid_nums(numbers)\n",
        "dict_result['sum']=sums_nums(numbers)\n",
        "dict_result['mode']=mode_nums(numbers)\n",
        "dict_result['max']=max_nums(numbers)\n",
        "print(dict_result)"
      ],
      "metadata": {
        "id": "dW6jW_rjfuba",
        "colab": {
          "base_uri": "https://localhost:8080/"
        },
        "outputId": "8d07fbb5-6cec-42d4-d66f-9be07ea931ed"
      },
      "execution_count": null,
      "outputs": [
        {
          "output_type": "stream",
          "name": "stdout",
          "text": [
            "{'mean': 5.181818181818182, 'median': 5, 'sum': 57, 'mode': 2, 'max': 10}\n",
            "mean\n",
            "median\n",
            "sum\n",
            "mode\n",
            "max\n"
          ]
        }
      ]
    },
    {
      "cell_type": "markdown",
      "source": [
        "# Задание 5\n",
        "\n",
        "На ввод поступает строка символов. Строка состоит из слов, которые отделены друг от друга пробелами. Необходимо вывести самое длинное слово и его порядковый номер.\n",
        "\n",
        "*Запрещено:*\n",
        "\n",
        "*   len()\n",
        "\n",
        "Дано:\n",
        "\n",
        "```\n",
        "Страдание и боль всегда обязательны для широкого сознания и глубокого сердца.\n",
        "\n",
        "```\n",
        "\n",
        "Вывод:\n",
        "```\n",
        "Самое длинное слово с номером 5: обязательны\n",
        "```"
      ],
      "metadata": {
        "id": "hZW0NZ7SgTcp"
      }
    },
    {
      "cell_type": "code",
      "source": [
        "from ast import While\n",
        "string_messag=input().split()\n",
        "words_dict={}\n",
        "\n",
        "for i in string_messag:\n",
        "  lens=''\n",
        "  k=0\n",
        "  while lens!=i:\n",
        "    lens=lens+i[k]\n",
        "    k+=1\n",
        "  words_dict[i]=k\n",
        "\n",
        "print(f'Самое длинное слово с номером {list(words_dict.values()).index(max(list(words_dict.values())))+1}:',\n",
        "      f'{list(words_dict.keys())[list(words_dict.values()).index(max_nums(list(words_dict.values())))]}')"
      ],
      "metadata": {
        "id": "rC5DpHHLsDYp",
        "colab": {
          "base_uri": "https://localhost:8080/"
        },
        "outputId": "a0ac52f8-c85f-43d7-ba47-5f6e65fd6be5"
      },
      "execution_count": null,
      "outputs": [
        {
          "output_type": "stream",
          "name": "stdout",
          "text": [
            "Страдание и боль всегда обязательны для широкого сознания и глубокого сердца.\n",
            "Самое длинное слово с номером 5: обязательны\n"
          ]
        }
      ]
    },
    {
      "cell_type": "markdown",
      "source": [
        "# Задание 6\n",
        "\n",
        "Напишите программу, для управления оценками студентов, со следующими функциями:\n",
        "\n",
        "* Добавление информации о студенте и его оценках.\n",
        "* Подсчет среднего балла студента.\n",
        "* Получение списка всех студентов с их средними баллами.\n",
        "* Поиск студента по имени и вывод его оценок и среднего балла.\n",
        "\n",
        "\n",
        "\n"
      ],
      "metadata": {
        "id": "k5BzJW5ZeaQN"
      }
    },
    {
      "cell_type": "code",
      "source": [
        "dict_students={}\n",
        "\n",
        "def new_student():\n",
        "  name=input('Введите имя студента: ').lower().rstrip()\n",
        "  dict_students[name]=[]\n",
        "  new_score(name)\n",
        "  return 'студент добавлен'\n",
        "\n",
        "\n",
        "def new_score(name):\n",
        "  if name in dict_students:\n",
        "    dict_students[name].extend(list (map(int,input('Введите оценки студента: ').split())))\n",
        "    return \"Оценки добавлены\"\n",
        "  else:\n",
        "    return('Такого студента нету')\n",
        "\n",
        "def ave_score(name):\n",
        "  if name in dict_students:\n",
        "    return (sum(dict_students[name])/len(dict_students[name]))\n",
        "  else:\n",
        "    return('Такого студента нету')\n",
        "\n",
        "def find_student(name):\n",
        "  if name in dict_students:\n",
        "    return(dict_students[name],ave_score(name))\n",
        "  else:\n",
        "    return('Такого студента нету')\n",
        "\n",
        "def students_output():\n",
        "  for i in (dict_students):\n",
        "    print(i,dict_students[i],ave_score(i))\n",
        "\n",
        "action=input('Что вы хотите сделать (\"Добавить студента\", \"Стоп\"): ').lower().rstrip()\n",
        "while action!='стоп':\n",
        "  if action=='добавить студента':\n",
        "    print(new_student())\n",
        "  elif action=='добавить оценки':\n",
        "    print(f'Студенты: {list(dict_students.keys())}',end='\\n')\n",
        "    print(new_score(input('Введите имя студента: ').lower().rstrip()),end='\\n')\n",
        "  elif action=='вывести оценки студента':\n",
        "    print(f'Студенты: {list(dict_students.keys())}',end='\\n')\n",
        "    print(find_student(input('Введите имя студента: ').lower().rstrip()),end='\\n')\n",
        "  elif action=='оценки всех студентов':\n",
        "    students_output()\n",
        "  action=input('Что вы хотите сделать (\"Добавить студента\", \"Добавить оценки\",\"Вывести оценки студента\", \"Оценки всех студентов\", \"Стоп\"): ').lower().rstrip()\n"
      ],
      "metadata": {
        "id": "cvhlltVbdyoL",
        "colab": {
          "base_uri": "https://localhost:8080/"
        },
        "outputId": "34eb0af1-fdd7-4837-f2b6-bea224c7d351"
      },
      "execution_count": null,
      "outputs": [
        {
          "name": "stdout",
          "output_type": "stream",
          "text": [
            "Что вы хотите сделать (\"Добавить студента\", \"Стоп\"): Добавить студента\n",
            "Введите имя студента: паха\n",
            "Введите оценки студента: 1 4 7 8 10\n",
            "студент добавлен\n",
            "Что вы хотите сделать (\"Добавить студента\", \"Добавить оценки\",\"Вывести оценки студента\", \"Оценки всех студентов\", \"Стоп\"): Добавить студента\n",
            "Введите имя студента: леха\n",
            "Введите оценки студента: 2 5 6 9 7\n",
            "студент добавлен\n",
            "Что вы хотите сделать (\"Добавить студента\", \"Добавить оценки\",\"Вывести оценки студента\", \"Оценки всех студентов\", \"Стоп\"): Добавить оценки\n",
            "Студенты: ['паха', 'леха']\n",
            "Введите имя студента: паха\n",
            "Введите оценки студента: 1 2 2 8 10 9\n",
            "Оценки добавлены\n",
            "Что вы хотите сделать (\"Добавить студента\", \"Добавить оценки\",\"Вывести оценки студента\", \"Оценки всех студентов\", \"Стоп\"): Оценки всех студентов\n",
            "паха [1, 4, 7, 8, 10, 1, 2, 2, 8, 10, 9] 5.636363636363637\n",
            "леха [2, 5, 6, 9, 7] 5.8\n",
            "Что вы хотите сделать (\"Добавить студента\", \"Добавить оценки\",\"Вывести оценки студента\", \"Оценки всех студентов\", \"Стоп\"): Вывести оценки студента\n",
            "Студенты: ['паха', 'леха']\n",
            "Введите имя студента: леха\n",
            "([2, 5, 6, 9, 7], 5.8)\n",
            "Что вы хотите сделать (\"Добавить студента\", \"Добавить оценки\",\"Вывести оценки студента\", \"Оценки всех студентов\", \"Стоп\"): пока\n",
            "Что вы хотите сделать (\"Добавить студента\", \"Добавить оценки\",\"Вывести оценки студента\", \"Оценки всех студентов\", \"Стоп\"): стоп\n"
          ]
        }
      ]
    },
    {
      "cell_type": "markdown",
      "source": [
        "# Задание 7\n",
        "\n",
        "\n",
        "**Задача:**\n",
        "\n",
        "Создайте приложение-викторину с командной строкой, которое задает пользователям вопросы по различным темам и отслеживает их результаты.\n",
        "\n",
        "Ключевые особенности:\n",
        "\n",
        "*   Хранение данных о вопросах и ответах на них, а также баллов за каждый вопрос\n",
        "*   Реализуйте функцию для представления вопросов, принятия ответов пользователей и предоставления обратной связи о том, являются ли ответы правильными или неправильными.\n",
        "*  После завершения викторины отобразите общий балл пользователя из числа ответов на вопросы.\n",
        "*  Реализуйте функцию добавления нового вопроса\n",
        "*  Реализуйте функцию перемешивания вопросов, для отображения случайного вопроса\n"
      ],
      "metadata": {
        "id": "iQ8Z-7PYgu1_"
      }
    },
    {
      "cell_type": "code",
      "source": [
        "questions=[]\n",
        "\n",
        "def add_question():\n",
        "    questions.append({\n",
        "        \"quest\": input(\"Вопрос: \"),\n",
        "        \"answer\": input(\"Ответ: \"),\n",
        "        \"points\": int(input(\"Количесвто баллов: \"))\n",
        "    })\n",
        "    print(\"Вопрост добавлен!\\n\")\n",
        "\n",
        "def run_quiz():\n",
        "  score=0\n",
        "  for question in questions:\n",
        "    print(question['quest'])\n",
        "    if question['answer']==input('Введиет овтет: ').lower().rstrip():\n",
        "      print('Правельно\\n')\n",
        "      score+=question['points']\n",
        "    else:\n",
        "      print('Непрвельно\\n')\n",
        "  print(f'Вы набрали {score} очков')\n",
        "\n",
        "questions.append({\"quest\": \"Какая столица Франции?\", \"answer\": \"париж\", \"points\": 2})\n",
        "questions.append({\"quest\": \"Сколько планет в Солнечной системе?\", \"answer\": \"8\", \"points\": 3})\n",
        "questions.append({\"quest\": \"Какой самый большой океан на Земле?\", \"answer\": \"ихий\", \"points\": 1})\n",
        "\n",
        "while True:\n",
        "  print('''\n",
        "  Викторина:\n",
        "  1. Запустить викторину\n",
        "  2. Добавить вопрос\n",
        "  3. Выход''')\n",
        "  action=int(input('Выберите действие: '))\n",
        "\n",
        "  if action==1:\n",
        "    run_quiz()\n",
        "  elif action==2:\n",
        "    add_question()\n",
        "  elif action==3:\n",
        "    break"
      ],
      "metadata": {
        "id": "DhxyYwHwh2V4",
        "colab": {
          "base_uri": "https://localhost:8080/"
        },
        "outputId": "05148d84-e56a-4ceb-d34c-1ccf7218bdd8"
      },
      "execution_count": null,
      "outputs": [
        {
          "name": "stdout",
          "output_type": "stream",
          "text": [
            "Викторина:\n",
            "  1. Запустить викторину\n",
            "  2. Добавить вопрос\n",
            "  3. Выход\n",
            "Выберите действие: 1\n",
            "Какая столица Франции?\n",
            "Введиет овтет: париж\n",
            "Правельно\n",
            "Сколько планет в Солнечной системе?\n",
            "Введиет овтет: 8\n",
            "Правельно\n",
            "Какой самый большой океан на Земле?\n",
            "Введиет овтет: хз\n",
            "Непрвельно\n",
            "Вы набрали 5 очков\n",
            "Викторина:\n",
            "  1. Запустить викторину\n",
            "  2. Добавить вопрос\n",
            "  3. Выход\n",
            "Выберите действие: 2\n",
            "Вопрос: Количество цветов в радуге \n",
            "Ответ: 7\n",
            "Количесвто баллов: 1\n",
            "Вопрост добавлен!\n",
            "Викторина:\n",
            "  1. Запустить викторину\n",
            "  2. Добавить вопрос\n",
            "  3. Выход\n",
            "Выберите действие: 1\n",
            "Какая столица Франции?\n",
            "Введиет овтет: париж\n",
            "Правельно\n",
            "Сколько планет в Солнечной системе?\n",
            "Введиет овтет: 8\n",
            "Правельно\n",
            "Какой самый большой океан на Земле?\n",
            "Введиет овтет: 8\n",
            "Непрвельно\n",
            "Количество цветов в радуге \n",
            "Введиет овтет: 7\n",
            "Правельно\n",
            "Вы набрали 6 очков\n",
            "Викторина:\n",
            "  1. Запустить викторину\n",
            "  2. Добавить вопрос\n",
            "  3. Выход\n",
            "Выберите действие: 3\n"
          ]
        }
      ]
    }
  ]
}