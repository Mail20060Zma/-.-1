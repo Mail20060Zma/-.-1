{
  "nbformat": 4,
  "nbformat_minor": 0,
  "metadata": {
    "colab": {
      "provenance": []
    },
    "kernelspec": {
      "name": "python3",
      "display_name": "Python 3"
    },
    "language_info": {
      "name": "python"
    }
  },
  "cells": [
    {
      "cell_type": "markdown",
      "source": [
        "Введите ваше ФИО:"
      ],
      "metadata": {
        "id": "k8oVfdwrMXyc"
      }
    },
    {
      "cell_type": "code",
      "execution_count": null,
      "metadata": {
        "id": "5mcBLsKMI1-5"
      },
      "outputs": [],
      "source": [
        "print('Зорин Михаил Алексеевич')"
      ]
    },
    {
      "cell_type": "markdown",
      "source": [
        "***Дисклеймер***\n",
        "\n",
        "В данной практике запрещено использования функций:\n",
        "\n",
        "\n",
        "*   sum()\n",
        "*   min()\n",
        "*   max()\n",
        "*   average()\n",
        "*   reversed()\n",
        "*   sorted()\n",
        "*   готовые функции или библиотеки\n"
      ],
      "metadata": {
        "id": "8HbYUbm3Jw3o"
      }
    },
    {
      "cell_type": "markdown",
      "source": [
        "\n",
        "**Задача 1:**\n",
        "\n",
        "\n",
        "\n",
        "Интернет-магазин предлагает следующие условия скидок:\n",
        "\n",
        "*   Для заказов больше 1000 единиц, клиент получает скидку 5%. Если клиент использует промокод SUPERDISCOUNT, он получает скидку 10% (вместо 5%).\n",
        "*  Для заказов более 5000 единиц, клиент получает скидку 15%, а использование промокода SUPERDISCOUNT увеличивает скидку до 20% (вместо 15%).\n",
        "\n",
        "Этап 1:\n",
        "Ввод:\n",
        "```\n",
        "Введите стоимость единицы товара: 5\n",
        "Введите количество товара: 1001\n",
        "Введите промокод: GiVEMEDISCONT\n",
        "```\n",
        "\n",
        "Вывод:\n",
        "\n",
        "```\n",
        "Ваша скидка: 5%\n",
        "Итоговая сумма: 4754.75\n",
        "```\n",
        "Этап 2:\n",
        "\n",
        "Оформите ваш код в виде функции"
      ],
      "metadata": {
        "id": "HmX0c6YPJSQr"
      }
    },
    {
      "cell_type": "code",
      "source": [
        "price=float(input('Введите стоимость единицы товара: '))\n",
        "number=int(input('Введите количество товара: '))\n",
        "promo=input('Введите промокод: ')\n",
        "if number>5000:\n",
        "  if promo=='SUPERDISCOUNT':\n",
        "    discount=20\n",
        "  else:\n",
        "    discount=15\n",
        "elif number>1000:\n",
        "  if promo=='SUPERDISCOUNT':\n",
        "    discount=10\n",
        "  else:\n",
        "    discount=5\n",
        "print(f''' Ваша скидка: {discount}\n",
        "Итоговая сумма: {number*price*(1-discount/100)}\n",
        "''')\n",
        "\n",
        "\n",
        "\n"
      ],
      "metadata": {
        "id": "OAIMIpklMN5D",
        "colab": {
          "base_uri": "https://localhost:8080/"
        },
        "outputId": "462d0fbb-8d14-44d9-b64f-bce731cba17d"
      },
      "execution_count": null,
      "outputs": [
        {
          "output_type": "stream",
          "name": "stdout",
          "text": [
            "Введите стоимость единицы товара: 5\n",
            "Введите количество товара: 6000\n",
            "Введите промокод: SUPERDISCOUNT\n",
            " Ваша скидка: 20\n",
            "Итоговая сумма: 24000.0\n",
            "\n"
          ]
        }
      ]
    },
    {
      "cell_type": "markdown",
      "source": [
        "**Задача 2:**\n",
        "\n",
        "Этап 1:\n",
        "Напишите программу способную отфильтровать список и вывести только положительные элементы\n",
        "\n",
        "\n",
        "Ввод:\n",
        "```\n",
        "-1 5 1 2 -3\n",
        "```\n",
        "\n",
        "Вывод:\n",
        "\n",
        "```\n",
        "5 1 2\n",
        "```\n",
        "\n",
        "Этап 2:\n",
        "\n",
        "Оформите ваш код в виде функции"
      ],
      "metadata": {
        "id": "eeRVWpuLNGJ0"
      }
    },
    {
      "cell_type": "code",
      "source": [
        "nums=input().split()\n",
        "positive_nums=[]\n",
        "for i in range(len(nums)):\n",
        "  if int(nums[i])>=0:\n",
        "    positive_nums.append(nums[i])\n",
        "print(' '.join(positive_nums))"
      ],
      "metadata": {
        "id": "Xbi6bL0WOE9N",
        "colab": {
          "base_uri": "https://localhost:8080/"
        },
        "outputId": "d539164b-a48d-4a26-d16e-d8a29de21fe0"
      },
      "execution_count": null,
      "outputs": [
        {
          "output_type": "stream",
          "name": "stdout",
          "text": [
            "12 19 -59 5 -98 -1 0\n",
            "12 19 5 0\n"
          ]
        }
      ]
    },
    {
      "cell_type": "markdown",
      "source": [
        "**Задача 3:**\n",
        "\n",
        "Этап 1:\n",
        "Напишите программу реализующую Алгоритм Евклида\n",
        "\n",
        "\n",
        "> Алгоритм Евклида – это алгоритм нахождения наибольшего общего делителя (НОД) пары целых чисел.\n",
        "\n",
        "Чуть подробнее, если вы забыли: [link](https://skysmart.ru/articles/mathematic/naibolshij-obshchij-delitel)\n",
        "\n",
        "\n",
        "Ввод:\n",
        "```\n",
        "30 18\n",
        "```\n",
        "\n",
        "Вывод:\n",
        "\n",
        "```\n",
        "6\n",
        "```\n",
        "\n",
        "Этап 2:\n",
        "Оформите ваш код в виде функции\n"
      ],
      "metadata": {
        "id": "lV-w6G-POa6F"
      }
    },
    {
      "cell_type": "code",
      "source": [
        "def Euclid(x,y):\n",
        "  for i in range(x if x>y else y,0,-1):\n",
        "    if x%i==0 and y%i==0:\n",
        "      return i"
      ],
      "metadata": {
        "id": "X2n6fnd91yt7"
      },
      "execution_count": null,
      "outputs": []
    },
    {
      "cell_type": "code",
      "source": [
        "print(Euclid(30,18))"
      ],
      "metadata": {
        "id": "43Dl5tIpOZsu",
        "colab": {
          "base_uri": "https://localhost:8080/"
        },
        "outputId": "d2a0fcf1-4820-4d5d-a45f-243cd7a6a042"
      },
      "execution_count": null,
      "outputs": [
        {
          "output_type": "stream",
          "name": "stdout",
          "text": [
            "6\n"
          ]
        }
      ]
    },
    {
      "cell_type": "markdown",
      "source": [
        "**Задача 4:**\n",
        "\n",
        "Этап 1:\n",
        "Напишите функцию программу, которая принимает строку и возвращает список слов и количество их упомнинаний в предложении\n",
        "\n",
        "Этап 2:\n",
        "Оформите ваш код в виде функции\n",
        "\n",
        "Ввод:\n",
        "```\n",
        "apple banana apple\n",
        "```\n",
        "\n",
        "Вывод:\n",
        "\n",
        "```\n",
        "apple: 2,\n",
        "banana: 1\n",
        "```"
      ],
      "metadata": {
        "id": "WIfPFxpsO0zL"
      }
    },
    {
      "cell_type": "code",
      "source": [
        "def Dicr_str_num(string):\n",
        "  str_dict=dict()\n",
        "  for i in range(len(string)):\n",
        "    if string[i] in str_dict.keys():\n",
        "      str_dict[string[i]]+=1\n",
        "    else:\n",
        "      str_dict[string[i]]=1\n",
        "  return str_dict\n",
        "print(Dicr_str_num(input('Введите строку: ').split()))"
      ],
      "metadata": {
        "id": "DgsmFeW5Po_x",
        "colab": {
          "base_uri": "https://localhost:8080/"
        },
        "outputId": "6f8e35b1-303f-47a4-e92d-c8dc73ca46ee"
      },
      "execution_count": null,
      "outputs": [
        {
          "output_type": "stream",
          "name": "stdout",
          "text": [
            "Введите строку: apple banana apple\n",
            "{'apple': 2, 'banana': 1}\n"
          ]
        }
      ]
    },
    {
      "cell_type": "markdown",
      "source": [
        "**Задача 5:**\n",
        "\n",
        "Этап 1:\n",
        "Детектор анаграмм Напишите программу на Python, которая принимает в качестве входных данных две строки и проверяет, являются ли они анаграммами друг друга\n",
        "\n",
        "Этап 2:\n",
        "Оформите ваш код в виде функции\n",
        "\n",
        "Ввод:\n",
        "```\n",
        "listen, silent\n",
        "```\n",
        "\n",
        "Вывод:\n",
        "\n",
        "```\n",
        "True\n",
        "```"
      ],
      "metadata": {
        "id": "5BmIJLUZP9I-"
      }
    },
    {
      "cell_type": "code",
      "source": [
        "string1=input().lower()\n",
        "string2=input().lower()\n",
        "print(Dicr_str_num(string1)==Dicr_str_num(string2))"
      ],
      "metadata": {
        "id": "7LNW8DuHQJwH",
        "colab": {
          "base_uri": "https://localhost:8080/"
        },
        "outputId": "86eac29c-7f5b-4f5f-8571-ab683f0d2536"
      },
      "execution_count": null,
      "outputs": [
        {
          "output_type": "stream",
          "name": "stdout",
          "text": [
            "123123\n",
            "123112112\n",
            "False\n"
          ]
        }
      ]
    },
    {
      "cell_type": "markdown",
      "source": [
        "**Задача 6:**\n",
        "\n",
        "Шифр ​​Цезаря\n",
        "\n",
        "Напишите программу на Python, которая реализует шифр Цезаря, простой метод шифрования, который заменяет каждую букву буквой на фиксированное количество позиций вниз по алфавиту. Программа должна запрашивать у пользователя сообщение и значение сдвига, а затем шифровать и расшифровывать сообщение.\n",
        "Подробнее о шифре Цезаря: [link](https://habr.com/ru/articles/534058/)\n",
        "\n",
        "Этап 1:\n",
        "\n",
        "Напишите код для реализации данной задачи\n",
        "\n",
        "Этап 2:\n",
        "\n",
        "Оформите код в виде нескольких функций:\n",
        "\n",
        "* Зашифровывает сообщение\n",
        "* Расшифровывает сообщение"
      ],
      "metadata": {
        "id": "-SIWYSq2QKBh"
      }
    },
    {
      "cell_type": "code",
      "source": [
        "def Encrypts(string,num):\n",
        "  alph='абвгдежзийклмнопрстуфхцчшщъыьэюяё'\n",
        "  string=string.split()\n",
        "  str_encrypts=\"\"\n",
        "  for word in range(len(string)):\n",
        "    for j in range(len(string[word])):\n",
        "      if alph.find(string[word][j])+num>33:\n",
        "        str_encrypts=str_encrypts+alph[alph.find(string[word][j])-33+num]\n",
        "      else:\n",
        "        str_encrypts=str_encrypts+alph[alph.find(string[word][j])+num]\n",
        "    str_encrypts=str_encrypts+\" \"\n",
        "  return str_encrypts\n",
        "\n",
        "def Decrypts(string,num):\n",
        "  alph='абвгдежзийклмнопрстуфхцчшщъыьэюяё'\n",
        "  string=string.split()\n",
        "  str_decrypts=\"\"\n",
        "  for word in range(len(string)):\n",
        "    for j in range(len(string[word])):\n",
        "      if alph.find(string[word][j])-num<0:\n",
        "        str_decrypts=str_decrypts+alph[alph.find(string[word][j])+33-num]\n",
        "      else:\n",
        "        str_decrypts=str_decrypts+alph[alph.find(string[word][j])-num]\n",
        "    str_decrypts=str_decrypts+\" \"\n",
        "  return str_decrypts\n",
        "\n",
        "str1=input()\n",
        "num1=int(input('<33 '))\n",
        "str2=Encrypts(str1,num1)\n",
        "print(str2)\n",
        "print(Decrypts(str2,num1))"
      ],
      "metadata": {
        "id": "anThYirsQe6N",
        "colab": {
          "base_uri": "https://localhost:8080/"
        },
        "outputId": "e418daac-cb1d-4bb7-a7f1-d414d4156dff"
      },
      "execution_count": null,
      "outputs": [
        {
          "output_type": "stream",
          "name": "stdout",
          "text": [
            "привет друг как дела \n",
            "13\n",
            "п\n",
            "р\n",
            "и\n",
            "в\n",
            "е\n",
            "т\n",
            "д\n",
            "р\n",
            "у\n",
            "г\n",
            "к\n",
            "а\n",
            "к\n",
            "д\n",
            "е\n",
            "л\n",
            "а\n",
            "ьэхптя сэёр чнч стшн \n",
            "ь\n",
            "э\n",
            "х\n",
            "п\n",
            "т\n",
            "я\n",
            "с\n",
            "э\n",
            "ё\n",
            "р\n",
            "ч\n",
            "н\n",
            "ч\n",
            "с\n",
            "т\n",
            "ш\n",
            "н\n",
            "привет друг как дела \n"
          ]
        }
      ]
    },
    {
      "cell_type": "markdown",
      "source": [
        "**Задача 7**\n",
        "\n",
        "Задача: «Банковская система»\n",
        "\n",
        "Создайте программу Python, которая имитирует базовую банковскую систему. Система должна иметь следующие функции:\n",
        "\n",
        "Требования\n",
        "*   Система должна позволять клиентам создавать счета и хранить их балансы.\n",
        "*   Система должна позволять клиентам вносить и снимать деньги со своих счетов.\n",
        "*   Система должна позволять клиентам проверять свой текущий баланс.\n",
        "*   Система должна позволять клиентам переводить деньги между счетами.\n",
        "*   Система должна отслеживать транзакции (депозиты, снятия и переводы) и иметь возможность печатать детали транзакций.\n",
        "\n",
        "\n",
        "Задачи\n",
        "1. Реализуйте банковскую систему, используя только базовые конструкции Python, такие как def, lists, if, elif и else, без классов или словарей.\n",
        "Определите функции для создания счетов, внесения и снятия денег, получения балансов счетов, перевода денег между счетами, а также создания и печати транзакций.\n",
        "2. Напишите основную функцию, которая демонстрирует использование банковской системы путем создания счетов, внесения и снятия денег и перевода денег между счетами.\n",
        "3. Бонусное задание\n",
        "Реализуйте способ хранения и печати истории транзакций для каждого счета.\n",
        "\n",
        "Ограничения\n",
        "Не используйте классы или словари.\n",
        "Используйте только базовые конструкции Python, такие как def, lists, if, elif и else.\n"
      ],
      "metadata": {
        "id": "avFZRRXrQz9O"
      }
    },
    {
      "cell_type": "code",
      "source": [
        "user_id_dict=dict()\n",
        "user_balnce_dict=dict()\n",
        "transactions=dict()\n",
        "\n",
        "\n",
        "def user_sing_up():\n",
        "  user_name=input('Введиет имя пользователя ').lower().rstrip()                                  # Там ниже код без использование словарей\n",
        "  user_password=input('Введиет пороль пользователя ').rstrip()\n",
        "  user_id_dict[user_name]=user_password\n",
        "  print('Вы зарегистрированы!')\n",
        "  user_balnce_dict[user_name]=0\n",
        "  transactions[user_name]=[]\n",
        "\n",
        "def user_log_in():\n",
        "  user_name=input('Введиет имя пользователя ').lower().rstrip()\n",
        "  user_password=input('Введиет пороль пользователя ').rstrip()\n",
        "  if  user_name in user_id_dict:\n",
        "    if user_id_dict[user_name]==user_password:\n",
        "      print(\"Доступ разрешен!\")\n",
        "      return user_name\n",
        "    else:\n",
        "      print(\"Доступ запрешен!\")\n",
        "  else:\n",
        "    print('Нет такого пользователя!')\n",
        "  return False\n",
        "\n",
        "def user_translation():\n",
        "  user_name_2=input('Введите имя пользователя которому хотите перевести деньги ').lower().rstrip()\n",
        "  if user_name_2 not in user_id_dict:\n",
        "    print('Такого пользователя нету')\n",
        "    return\n",
        "  suma=int(input('Введите сумму перевода '))\n",
        "  if user_balnce_dict[user_name]>=suma:\n",
        "    print('У вас нету столько денег!')\n",
        "    return\n",
        "  user_balnce_dict[user_name]=user_balnce_dict[user_name]-suma\n",
        "  user_balnce_dict[user_name_2]=user_balnce_dict[user_name_2]+suma\n",
        "  print(f'Вы перевели {user_name_2} {suma}р')\n",
        "  transactions[user_name].append(f'{user_name} перевел {user_name_2} {suma}р')\n",
        "  transactions[user_name_2].append(f'{user_name} перевел {user_name_2} {suma}р')\n",
        "\n",
        "def user_put():\n",
        "  suma=int(input('Введите сумму которую хотите положить '))\n",
        "  user_balnce_dict[user_name]=user_balnce_dict[user_name]+suma\n",
        "  print(f'Вы положили {suma}р на свой счет ')\n",
        "  transactions[user_name].append(f'Баланс {user_name} поплнен на {suma}р')\n",
        "\n",
        "def user_take():\n",
        "  suma=int(input('Введите сумму которую хотите снять '))\n",
        "  if user_balnce_dict[user_name]>=suma:\n",
        "    print('У вас нету столько денег!')\n",
        "    return\n",
        "  user_balnce_dict[user_name]=user_balnce_dict[user_name]-suma\n",
        "  print(f'Вы сняли  {suma}р со своего счета ')\n",
        "  transactions[user_name].append(f'{user_name} снял с баланса {suma}р')\n",
        "\n",
        "def user_check():\n",
        "  print(user_balnce_dict[user_name])\n",
        "\n",
        "\n",
        "action=input('Что вы хотите сделать (\"Войти в систему\", \"Зарегистрироваться в системе\", \"Стоп\") ').lower().rstrip()\n",
        "while action!='стоп':\n",
        "  if \"зарегистрироваться в системе\"==action:\n",
        "    user_sing_up()\n",
        "  elif 'войти в систему'==action:\n",
        "    user_name=user_log_in()\n",
        "    if user_name:\n",
        "      while action!='выход':\n",
        "        action=input('Что вы хотите сделать (\"Положить деньги\", \"Снять деньги\", \"Перевести деньги\", \"Проверить баланс\", \"История транзакций\", \"Выход\") ').lower().rstrip()\n",
        "        if \"положить деньги\"==action:\n",
        "          user_put()\n",
        "        elif  \"снять деньги\"==action:\n",
        "          user_take()\n",
        "        elif \"перевести деньги\"==action:\n",
        "          user_translation(),\n",
        "        elif \"проверить баланс\"==action:\n",
        "          user_check()\n",
        "        elif 'история транзакций'==action:\n",
        "          print(transactions[user_name])\n",
        "  action=input('Что вы хотите сделать (\"Войти в систему\", \"Зарегистрироваться в системе\", \"Стоп\") ').lower().rstrip()"
      ],
      "metadata": {
        "id": "dWEW10zIRwjs",
        "colab": {
          "base_uri": "https://localhost:8080/"
        },
        "outputId": "a43c9f35-919f-4d39-a574-a977d1b4dc63"
      },
      "execution_count": null,
      "outputs": [
        {
          "name": "stdout",
          "output_type": "stream",
          "text": [
            "Что вы хотите сделать (\"Войти в систему\", \"Зарегистрироваться в системе\") Войти в систему\n",
            "Введиет имя пользователя 123\n",
            "Введиет пороль пользователя 123\n",
            "Нет такого пользователя!\n",
            "Что вы хотите сделать (\"Войти в систему\", \"Зарегистрироваться в системе\") Зарегистрироваться в системе\n",
            "Введиет имя пользователя 123\n",
            "Введиет пороль пользователя 123\n",
            "Вы зарегистрированы!\n",
            "Что вы хотите сделать (\"Войти в систему\", \"Зарегистрироваться в системе\") Зарегистрироваться в системе\n",
            "Введиет имя пользователя 1234\n",
            "Введиет пороль пользователя 1234\n",
            "Вы зарегистрированы!\n",
            "Что вы хотите сделать (\"Войти в систему\", \"Зарегистрироваться в системе\") Войти в систему\n",
            "Введиет имя пользователя 123\n",
            "Введиет пороль пользователя 123\n",
            "Доступ разрешен!\n",
            "Что вы хотите сделать (\"Положить деньги\", \"Снять деньги\", \"Перевести деньги\", \"Проверить баланс\", \"История транзакций\", \"Выход\") Положить деньги\n",
            "Введите сумму которую хотите положить 1000000\n",
            "Вы положили 1000000р на свой счет \n",
            "Что вы хотите сделать (\"Положить деньги\", \"Снять деньги\", \"Перевести деньги\", \"Проверить баланс\", \"История транзакций\", \"Выход\") Снять деньги\n",
            "Введите сумму которую хотите снять 100000\n",
            "Вы сняли  100000р со своего счета \n",
            "Что вы хотите сделать (\"Положить деньги\", \"Снять деньги\", \"Перевести деньги\", \"Проверить баланс\", \"История транзакций\", \"Выход\") Перевести деньги\n",
            "Введите имя пользователя которому хотите перевести деньги 1234\n",
            "Введите сумму перевода 200000\n",
            "Вы перевели 1234 200000р\n",
            "Что вы хотите сделать (\"Положить деньги\", \"Снять деньги\", \"Перевести деньги\", \"Проверить баланс\", \"История транзакций\", \"Выход\") История транзакций\n",
            "['Баланс 123 поплнен на 1000000р', '123 снял с баланса 100000р', '123 перевел 1234 200000р']\n",
            "Что вы хотите сделать (\"Положить деньги\", \"Снять деньги\", \"Перевести деньги\", \"Проверить баланс\", \"История транзакций\", \"Выход\") Выход\n",
            "Что вы хотите сделать (\"Войти в систему\", \"Зарегистрироваться в системе\") Войти в систему\n",
            "Введиет имя пользователя 1234\n",
            "Введиет пороль пользователя 1234\n",
            "Доступ разрешен!\n",
            "Что вы хотите сделать (\"Положить деньги\", \"Снять деньги\", \"Перевести деньги\", \"Проверить баланс\", \"История транзакций\", \"Выход\") История транзакций\n",
            "['123 перевел 1234 200000р']\n",
            "Что вы хотите сделать (\"Положить деньги\", \"Снять деньги\", \"Перевести деньги\", \"Проверить баланс\", \"История транзакций\", \"Выход\") выход\n",
            "Что вы хотите сделать (\"Войти в систему\", \"Зарегистрироваться в системе\") стоп\n"
          ]
        }
      ]
    },
    {
      "cell_type": "code",
      "source": [
        "user_name_dict=[]\n",
        "user_password_dict=[]\n",
        "user_balnce_dict=[]\n",
        "transactions=[]\n",
        "\n",
        "\n",
        "def user_sing_up():\n",
        "  user_name=input('Введиет имя пользователя ').lower().rstrip()\n",
        "  user_password=input('Введиет пороль пользователя ').rstrip()\n",
        "  user_name_dict.append(user_name)\n",
        "  user_password_dict.append(user_password)\n",
        "  print('Вы зарегистрированы!')\n",
        "  user_balnce_dict.append(0)\n",
        "  transactions.append([])\n",
        "\n",
        "def user_log_in():\n",
        "  user_name=input('Введиет имя пользователя ').lower().rstrip()\n",
        "  user_password=input('Введиет пороль пользователя ').rstrip()\n",
        "  if  user_name in user_name_dict:\n",
        "    if  user_password_dict[user_name_dict.index(user_name)]==user_password:\n",
        "      print(\"Доступ разрешен!\")\n",
        "      return user_name\n",
        "    else:\n",
        "      print(\"Доступ запрешен!\")\n",
        "  else:\n",
        "    print('Нет такого пользователя!')\n",
        "  return False\n",
        "\n",
        "def user_translation():\n",
        "  user_name_2=input('Введите имя пользователя которому хотите перевести деньги ').lower().rstrip()\n",
        "  if user_name_2 not in user_name_dict:\n",
        "    print('Такого пользователя нету!')\n",
        "    return\n",
        "  suma=int(input('Введите сумму перевода '))\n",
        "  if user_balnce_dict[user_name_dict.index(user_name)]<suma:\n",
        "    print('У вас нету столько денег!')\n",
        "    return\n",
        "  user_balnce_dict[user_name_dict.index(user_name)]=user_balnce_dict[user_name_dict.index(user_name)]-suma\n",
        "  user_balnce_dict[user_name_dict.index(user_name_2)]=user_balnce_dict[user_name_dict.index(user_name_2)]+suma\n",
        "  print(f'Вы перевели {user_name_2} {suma}р')\n",
        "  transactions[user_name_dict.index(user_name)].append(f'{user_name} перевел {user_name_2} {suma}р')\n",
        "  transactions[user_name_dict.index(user_name_2)].append(f'{user_name} перевел {user_name_2} {suma}р')\n",
        "\n",
        "def user_put():\n",
        "  suma=int(input('Введите сумму которую хотите положить '))\n",
        "  user_balnce_dict[user_name_dict.index(user_name)]=user_balnce_dict[user_name_dict.index(user_name)]+suma\n",
        "  print(f'Вы положили {suma}р на свой счет ')\n",
        "  transactions[user_name_dict.index(user_name)].append(f'Баланс {user_name} поплнен на {suma}р')\n",
        "\n",
        "def user_take():\n",
        "  suma=int(input('Введите сумму которую хотите снять '))\n",
        "  if user_balnce_dict[user_name_dict.index(user_name)]<suma:\n",
        "    print('У вас нету столько денег!')\n",
        "    return\n",
        "  user_balnce_dict[user_name_dict.index(user_name)]=user_balnce_dict[user_name_dict.index(user_name)]-suma\n",
        "  print(f'Вы сняли  {suma}р со своего счета ')\n",
        "  transactions[user_name_dict.index(user_name)].append(f'{user_name} снял с баланса {suma}р')\n",
        "\n",
        "def user_check():\n",
        "  print(user_balnce_dict[user_name_dict.index(user_name)])\n",
        "\n",
        "\n",
        "action=input('Что вы хотите сделать (\"Войти в систему\", \"Зарегистрироваться в системе\", \"Стоп\") ').lower().rstrip()\n",
        "while action!='стоп':\n",
        "  if \"зарегистрироваться в системе\"==action:\n",
        "    user_sing_up()\n",
        "  elif 'войти в систему'==action:\n",
        "    user_name=user_log_in()\n",
        "    if user_name:\n",
        "      while action!='выход':\n",
        "        action=input('Что вы хотите сделать (\"Положить деньги\", \"Снять деньги\", \"Перевести деньги\", \"Проверить баланс\", \"История транзакций\", \"Выход\") ').lower().rstrip()\n",
        "        if \"положить деньги\"==action:\n",
        "          user_put()\n",
        "        elif  \"снять деньги\"==action:\n",
        "          user_take()\n",
        "        elif \"перевести деньги\"==action:\n",
        "          user_translation(),\n",
        "        elif \"проверить баланс\"==action:\n",
        "          user_check()\n",
        "        elif 'история транзакций'==action:\n",
        "          print(transactions[user_name_dict.index(user_name)])\n",
        "  action=input('Что вы хотите сделать (\"Войти в систему\", \"Зарегистрироваться в системе\", \"Стоп\") ').lower().rstrip()\n",
        "\n",
        "\n",
        "\n",
        "\n"
      ],
      "metadata": {
        "colab": {
          "base_uri": "https://localhost:8080/"
        },
        "id": "H1hEGTiHQw8Q",
        "outputId": "7b7616e4-9d05-450b-b8a0-01bc62863639"
      },
      "execution_count": null,
      "outputs": [
        {
          "name": "stdout",
          "output_type": "stream",
          "text": [
            "Что вы хотите сделать (\"Войти в систему\", \"Зарегистрироваться в системе\", \"Стоп\") Зарегистрироваться в системе\n",
            "Введиет имя пользователя 123\n",
            "Введиет пороль пользователя 123\n",
            "Вы зарегистрированы!\n",
            "Что вы хотите сделать (\"Войти в систему\", \"Зарегистрироваться в системе\") Зарегистрироваться в системе\n",
            "Введиет имя пользователя 12\n",
            "Введиет пороль пользователя 12\n",
            "Вы зарегистрированы!\n",
            "Что вы хотите сделать (\"Войти в систему\", \"Зарегистрироваться в системе\") Войти в систему\n",
            "Введиет имя пользователя 123\n",
            "Введиет пороль пользователя 123\n",
            "Доступ разрешен!\n",
            "Что вы хотите сделать (\"Положить деньги\", \"Снять деньги\", \"Перевести деньги\", \"Проверить баланс\", \"История транзакций\", \"Выход\") Положить деньги\n",
            "Введите сумму которую хотите положить 10000\n",
            "Вы положили 10000р на свой счет \n",
            "Что вы хотите сделать (\"Положить деньги\", \"Снять деньги\", \"Перевести деньги\", \"Проверить баланс\", \"История транзакций\", \"Выход\") Снять деньги\n",
            "Введите сумму которую хотите снять 1000\n",
            "Вы сняли  1000р со своего счета \n",
            "Что вы хотите сделать (\"Положить деньги\", \"Снять деньги\", \"Перевести деньги\", \"Проверить баланс\", \"История транзакций\", \"Выход\") Перевести деньги\n",
            "Введите имя пользователя которому хотите перевести деньги 12\n",
            "Введите сумму перевода 1000\n",
            "Вы перевели 12 1000р\n",
            "Что вы хотите сделать (\"Положить деньги\", \"Снять деньги\", \"Перевести деньги\", \"Проверить баланс\", \"История транзакций\", \"Выход\") Проверить баланс\n",
            "8000\n",
            "Что вы хотите сделать (\"Положить деньги\", \"Снять деньги\", \"Перевести деньги\", \"Проверить баланс\", \"История транзакций\", \"Выход\") История транзакций\n",
            "['Баланс 123 поплнен на 10000р', '123 снял с баланса 1000р', '123 перевел 12 1000р']\n",
            "Что вы хотите сделать (\"Положить деньги\", \"Снять деньги\", \"Перевести деньги\", \"Проверить баланс\", \"История транзакций\", \"Выход\") Выход\n",
            "Что вы хотите сделать (\"Войти в систему\", \"Зарегистрироваться в системе\") пока\n",
            "Что вы хотите сделать (\"Войти в систему\", \"Зарегистрироваться в системе\") стоп\n"
          ]
        }
      ]
    }
  ]
}